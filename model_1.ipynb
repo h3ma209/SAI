{
 "cells": [
  {
   "cell_type": "code",
   "execution_count": 1,
   "metadata": {},
   "outputs": [],
   "source": [
    "import spacy\n",
    "import torch\n",
    "from torchtext import data    \n",
    "from libs import sql_tokenizer\n",
    "import libs"
   ]
  },
  {
   "cell_type": "code",
   "execution_count": 2,
   "metadata": {},
   "outputs": [],
   "source": [
    "#Reproducing same results\n",
    "SEED = 2019\n",
    "\n",
    "#Torch\n",
    "torch.manual_seed(SEED)\n",
    "\n",
    "#Cuda algorithms\n",
    "torch.backends.cudnn.deterministic = True  "
   ]
  },
  {
   "cell_type": "code",
   "execution_count": 3,
   "metadata": {},
   "outputs": [],
   "source": [
    "TEXT = data.Field(tokenize='spacy',batch_first=True,include_lengths=True)\n",
    "LABEL = data.LabelField(dtype = torch.float,batch_first=True)"
   ]
  },
  {
   "cell_type": "code",
   "execution_count": 4,
   "metadata": {},
   "outputs": [],
   "source": [
    "fields = [(None, None), ('text',TEXT),('label', LABEL)]"
   ]
  },
  {
   "cell_type": "code",
   "execution_count": null,
   "metadata": {},
   "outputs": [
    {
     "name": "stdout",
     "output_type": "stream",
     "text": [
      "{'text': ['LT', 'script', 'GT', 'alert', 'LPRN', 'INT', 'RPRN', 'SMCLN', 'LT', 'SLSH', 'script', 'GT'], 'label': 'xss'}\n",
      "19 <blank> xss\n",
      "20 <blank> xss\n",
      "22 <blank> xss\n",
      "24 <blank> xss\n",
      "26 <blank> xss\n",
      "28 <blank> xss\n",
      "30 <blank> xss\n",
      "32 <blank> xss\n",
      "34 <blank> xss\n",
      "36 <blank> xss\n",
      "38 <blank> xss\n",
      "40 <blank> xss\n",
      "42 <blank> xss\n",
      "44 <blank> xss\n",
      "46 <blank> xss\n",
      "48 <blank> xss\n",
      "50 <blank> xss\n",
      "52 <blank> xss\n",
      "55 <blank> xss\n",
      "57 <blank> xss\n",
      "61 <blank> xss\n",
      "63 <blank> xss\n",
      "65 <blank> xss\n",
      "67 <blank> xss\n",
      "69 <blank> xss\n",
      "71 <blank> xss\n",
      "73 <blank> xss\n",
      "75 <blank> xss\n",
      "77 <blank> xss\n",
      "79 <blank> xss\n",
      "81 <blank> xss\n",
      "83 <blank> xss\n",
      "85 <blank> xss\n",
      "87 <blank> xss\n",
      "89 <blank> xss\n",
      "91 <blank> xss\n",
      "93 <blank> xss\n",
      "95 <blank> xss\n",
      "97 <blank> xss\n",
      "99 <blank> xss\n",
      "101 <blank> xss\n",
      "103 <blank> xss\n",
      "105 <blank> xss\n",
      "107 <blank> xss\n",
      "109 <blank> xss\n",
      "111 <blank> xss\n",
      "113 <blank> xss\n",
      "115 <blank> xss\n",
      "117 <blank> xss\n",
      "119 <blank> xss\n",
      "121 <blank> xss\n",
      "123 <blank> xss\n",
      "125 <blank> xss\n",
      "127 <blank> xss\n",
      "129 <blank> xss\n",
      "131 <blank> xss\n",
      "133 <blank> xss\n",
      "135 <blank> xss\n",
      "137 <blank> xss\n",
      "140 <blank> xss\n",
      "142 <blank> xss\n",
      "144 <blank> xss\n",
      "146 <blank> xss\n",
      "148 <blank> xss\n",
      "150 <blank> xss\n",
      "152 <blank> xss\n",
      "154 <blank> xss\n",
      "156 <blank> xss\n",
      "158 <blank> xss\n",
      "161 <blank> xss\n",
      "164 <blank> xss\n",
      "166 <blank> xss\n",
      "168 <blank> xss\n",
      "170 <blank> xss\n",
      "173 <blank> xss\n",
      "175 <blank> xss\n",
      "177 <blank> xss\n",
      "179 <blank> xss\n",
      "181 <blank> xss\n",
      "183 <blank> xss\n",
      "186 <blank> xss\n",
      "188 <blank> xss\n",
      "190 <blank> xss\n",
      "192 <blank> xss\n",
      "195 <blank> xss\n",
      "197 <blank> xss\n",
      "199 <blank> xss\n",
      "201 <blank> xss\n",
      "203 <blank> xss\n",
      "205 <blank> xss\n",
      "207 <blank> xss\n",
      "209 <blank> xss\n",
      "1064 <blank> sql\n",
      "1140 <blank> sql\n"
     ]
    }
   ],
   "source": [
    "training_data=data.TabularDataset(path = 'csv_files/xss.csv',format = 'csv',fields = fields,skip_header = True)\n",
    "\n",
    "#print preprocessed text\n",
    "print(vars(training_data.examples[0]))\n",
    "for i,dt in enumerate(training_data):\n",
    "    if(len(dt.text) <= 0):\n",
    "        training_data[i].text = \"<blank>\"\n",
    "        print(i,training_data[i].text,training_data[i].label)"
   ]
  },
  {
   "cell_type": "code",
   "execution_count": null,
   "metadata": {},
   "outputs": [],
   "source": [
    "import random\n",
    "train_data, valid_data = training_data.split(split_ratio=0.7, random_state = random.seed(SEED))"
   ]
  },
  {
   "cell_type": "code",
   "execution_count": null,
   "metadata": {},
   "outputs": [
    {
     "name": "stdout",
     "output_type": "stream",
     "text": [
      "Size of TEXT vocabulary: 3499\n",
      "Size of LABEL vocabulary: 4\n"
     ]
    },
    {
     "name": "stdout",
     "output_type": "stream",
     "text": [
      "defaultdict(<bound method Vocab._default_unk_index of <torchtext.vocab.Vocab object at 0x00000220B4823A58>>, {'<unk>': 0, '<pad>': 1, 'DOT': 2, 'the': 3, 'A': 4, 'AND': 5, 'OF': 6, 'TO': 7, 'INT': 8, 'br': 9, 'IS': 10, 'IN': 11, 'it': 12, 'i': 13, 'RPRN': 14, 'this': 15, 'CMMA': 16, 'that': 17, 'BITAND': 18, 'SMCLN': 19, 's': 20, 'SQUT': 21, 'LPRN': 22, 'NULL': 23, 'AS': 24, 'movie': 25, 'was': 26, 'WITH': 27, 'FOR': 28, 'SLSH': 29, 'but': 30, 'film': 31, 'PRCNT': 32, 'ON': 33, 'EQ': 34, 'you': 35, 'T': 36, 'NOT': 37, 'HASH': 38, 'DQUT': 39, 'his': 40, 'ARE': 41, 'one': 42, 'FROM': 43, 'MINUS': 44, 'be': 45, 'he': 46, 'ALL': 47, 'have': 48, 'an': 49, 'they': 50, 'who': 51, 'LT': 52, 'OR': 53, 'AT': 54, 'GT': 55, 'IF': 56, 'BY': 57, 'BSLSH': 58, 'CLN': 59, 'LIKE': 60, 'so': 61, 'OUT': 62, 'about': 63, 'can': 64, 'has': 65, 'just': 66, 'there': 67, 'story': 68, 'good': 69, 'MORE': 70, 'her': 71, 'TIME': 72, 'WHEN': 73, 'script': 74, 'SOME': 75, 'up': 76, 'which': 77, 'very': 78, 'even': 79, 'what': 80, 'would': 81, 'ONLY': 82, 'NO': 83, 'see': 84, 'my': 85, 'STAR': 86, 'their': 87, 'alert': 88, 'lt': 89, 'gt': 90, 'had': 91, 'we': 92, 'tab': 93, 'she': 94, 'were': 95, 'its': 96, 'really': 97, 'well': 98, 'will': 99, 'because': 100, 'great': 101, 'much': 102, 'FIRST': 103, 'WHERE': 104, 'than': 105, 'SELECT': 106, 'INTO': 107, 'bad': 108, 'xss': 109, 'other': 110, 'GET': 111, 'made': 112, 'been': 113, 'people': 114, 'him': 115, 'most': 116, 'how': 117, 'DO': 118, 'benchmark': 119, 'md5': 120, 'movies': 121, 'ALSO': 122, 'me': 123, 'PLUS': 124, 'THEN': 125, 'CHARACTERS': 126, 'ANY': 127, 'don': 128, 'too': 129, 'could': 130, 'seen': 131, 'many': 132, 'two': 133, 'make': 134, 'think': 135, 'films': 136, 'them': 137, 'never': 138, 'CHARACTER': 139, 'AFTER': 140, 'better': 141, 'way': 142, 'did': 143, 'acting': 144, 'director': 145, 'GO': 146, 'scenes': 147, 'ever': 148, 'love': 149, 'life': 150, 'plot': 151, 'OVER': 152, 'NEW': 153, 'OFF': 154, 'being': 155, 'src': 156, 'best': 157, 'little': 158, 'such': 159, 'b': 160, 'scene': 161, 'man': 162, 'should': 163, 've': 164, 'ACTION': 165, 'WHILE': 166, 'these': 167, 'watch': 168, 'still': 169, 'here': 170, 'actors': 171, 'back': 172, 'know': 173, 'titanic': 174, 'n': 175, 'does': 176, 'years': 177, 'another': 178, 'REAL': 179, 'why': 180, 'l': 181, '20delay': 182, 'same': 183, '20waitfor': 184, 'END': 185, 'your': 186, '<': 187, '>': 188, 'SHOW': 189, 'a': 190, 'k': 191, 'didn': 192, 'EVERY': 193, 'OLD': 194, 'actually': 195, 'doesn': 196, 'say': 197, 'STYLE': 198, 'now': 199, 'things': 200, 'BEFORE': 201, 'DISTINCT': 202, 'horror': 203, 'through': 204, 'WORK': 205, 'few': 206, 'give': 207, 'ending': 208, 'episode': 209, 'something': 210, 'come': 211, 'however': 212, 'lot': 213, 'M': 214, 'going': 215, 'those': 216, 'watching': 217, 'again': 218, 'thing': 219, 'though': 220, 'BOTH': 221, 'look': 222, 'LIMIT': 223, 'WITHOUT': 224, 'fact': 225, 'got': 226, 'BETWEEN': 227, 'NOTHING': 228, 'done': 229, 'part': 230, 'LAST': 231, 'RIGHT': 232, 'img': 233, 'must': 234, 'series': 235, 'enough': 236, 'makes': 237, 'down': 238, 'guy': 239, 'may': 240, 'thought': 241, 're': 242, 'since': 243, 'world': 244, 'worst': 245, 'CAST': 246, 'ROLE': 247, 'almost': 248, 'find': 249, 'minutes': 250, 'point': 251, 'us': 252, 'young': 253, 'ATR': 254, 'LEAST': 255, 'javascript': 256, 'want': 257, 'woman': 258, 'BIT': 259, 'anything': 260, 'dvd': 261, 'interesting': 262, 'rose': 263, 'said': 264, 'big': 265, 'comes': 266, 'll': 267, 'quite': 268, 'am': 269, 'far': 270, 'http': 271, 'isn': 272, 'music': 273, 'once': 274, 'pretty': 275, 'saw': 276, 'feel': 277, 'hard': 278, 'making': 279, 'own': 280, 'police': 281, 'probably': 282, 'trying': 283, 'women': 284, 'LONG': 285, 'READ': 286, 'actor': 287, 'audience': 288, 'looks': 289, 'maybe': 290, 'season': 291, 'star': 292, 'x': 293, 'YEAR': 294, 'cop': 295, 'd': 296, 'gets': 297, 'jack': 298, 'original': 299, 'take': 300, 'tv': 301, 'TRUE': 302, 'away': 303, 'different': 304, 'especially': 305, 'together': 306, 'whole': 307, 'SECOND': 308, 'SET': 309, 'believe': 310, 'black': 311, 'car': 312, 'might': 313, 'INSTEAD': 314, 'although': 315, 'around': 316, 'excellent': 317, 'funny': 318, 'money': 319, 'HAVING': 320, 'VERSION': 321, 'came': 322, 'kapoor': 323, 'kind': 324, 'less': 325, 'place': 326, 'production': 327, 'screen': 328, 'seems': 329, 'stargate': 330, 'zombie': 331, 'american': 332, 'comedy': 333, 'everything': 334, 'fans': 335, 'fun': 336, 'get_host_address': 337, 'girl': 338, 'given': 339, 'goes': 340, 'high': 341, 'job': 342, 'line': 343, 'performance': 344, 'sure': 345, 'takes': 346, 'times': 347, 'utl_inaddr': 348, 'beautiful': 349, 'delay': 350, 'effects': 351, 'idea': 352, 'liked': 353, 'played': 354, 'put': 355, 'ship': 356, 'special': 357, 'top': 358, 'waitfor': 359, 'EACH': 360, 'FOUND': 361, 'our': 362, 'worth': 363, 'ALWAYS': 364, 'DAY': 365, 'LEFT': 366, 'along': 367, 'book': 368, 'boring': 369, 'completely': 370, 'overall': 371, 'someone': 372, 'amazing': 373, 'anyone': 374, 'course': 375, 'looking': 376, 'rather': 377, 'seeing': 378, 'wasn': 379, 'EXCLM': 380, 'NEXT': 381, 'akshay': 382, 'couple': 383, 'direction': 384, 'himself': 385, 'main': 386, 'FAMILY': 387, 'become': 388, 'cool': 389, 'drama': 390, 'english': 391, 'finally': 392, 'home': 393, 'john': 394, 'mind': 395, 'nice': 396, 'sense': 397, 'tashan': 398, 'won': 399, 'CALLED': 400, 'CLASS': 401, 'ELSE': 402, 'UNTIL': 403, 'beginning': 404, 'body': 405, 'crap': 406, 'during': 407, 'either': 408, 'everyone': 409, 'friends': 410, 'heart': 411, 'hollywood': 412, 'later': 413, 'let': 414, 'night': 415, 'rownum': 416, 'run': 417, 'seemed': 418, 'shot': 419, 'sys': 420, 'thinking': 421, 'chinese': 422, 'episodes': 423, 'face': 424, 'fan': 425, 'help': 426, 'live': 427, 'master': 428, 'murder': 429, 'piece': 430, 'play': 431, 'reason': 432, 'string': 433, 'three': 434, 'used': 435, 'williams': 436, 'wonderful': 437, 'writer': 438, 'zombies': 439, 'COUNT': 440, 'LCBR': 441, 'art': 442, 'cinema': 443, 'father': 444, 'fromcharcode': 445, 'ha': 446, 'human': 447, 'miike': 448, 'not': 449, 'performances': 450, 'rich': 451, 'short': 452, 'video': 453, 'wrong': 454, 'yet': 455, 'cut': 456, 'directed': 457, 'enjoy': 458, 'getting': 459, 'james': 460, 'lost': 461, 'mean': 462, 'org': 463, 'perfect': 464, 'seagal': 465, 'seem': 466, 'sg': 467, 'superman': 468, 'watched': 469, 'BITOR': 470, 'FULL': 471, 'USE': 472, 'ckers': 473, 'despite': 474, 'highly': 475, 'itself': 476, 'japanese': 477, 'kareena': 478, 'keep': 479, 'poor': 480, 'rating': 481, 'rest': 482, 'shown': 483, 'simply': 484, 'song': 485, 'songs': 486, 'stars': 487, 'title': 488, 'turn': 489, 'wife': 490, 'CLOSE': 491, 'NAME': 492, 'UNDER': 493, 'awful': 494, 'boy': 495, 'camera': 496, 'fi': 497, 'footage': 498, 'future': 499, 'iframe': 500, 'mother': 501, 'newline': 502, 'plays': 503, 'shows': 504, 'tell': 505, 'thriller': 506, 'timberlake': 507, 'turned': 508, 'written': 509, 'C': 510, 'LEAVE': 511, 'RCBR': 512, 'able': 513, 'against': 514, 'batman': 515, 'becomes': 516, 'bollywood': 517, 'dead': 518, 'definitely': 519, 'gives': 520, 'grease': 521, 'half': 522, 'history': 523, 'hit': 524, 'killer': 525, 'loved': 526, 'masks': 527, 'saif': 528, 'sci': 529, 'sex': 530, 'stupid': 531, 'suspense': 532, 'talent': 533, 'team': 534, 'terrible': 535, 'today': 536, 'truly': 537, 'understand': 538, 'violence': 539, 'white': 540, 'START': 541, 'TYPE': 542, 'YES': 543, 'act': 544, 'budget': 545, 'dialogue': 546, 'die': 547, 'entire': 548, 'felt': 549, 'flick': 550, 'flight': 551, 'gave': 552, 'hope': 553, 'href': 554, 'major': 555, 'meet': 556, 'michael': 557, 'mr': 558, 'oh': 559, 'romantic': 560, 'stuff': 561, 'svg': 562, 'wang': 563, 'went': 564, 'worse': 565, '”': 566, 'EXCEPT': 567, 'absolutely': 568, 'change': 569, 'city': 570, 'coming': 571, 'daughter': 572, 'doing': 573, 'ed': 574, 'events': 575, 'exactly': 576, 'expect': 577, 'form': 578, 'head': 579, 'horrible': 580, 'justin': 581, 'known': 582, 'lommel': 583, 'looked': 584, 'low': 585, 'o': 586, 'obviously': 587, 'often': 588, 'person': 589, 'recommend': 590, 'rent': 591, 'serious': 592, 'side': 593, 'street': 594, 'strong': 595, 'talk': 596, 'wood': 597, 'writing': 598, 'DOCUMENT': 599, 'FORCE': 600, 'TEXT': 601, 'anil': 602, 'background': 603, 'based': 604, 'hitchcock': 605, 'house': 606, 'kid': 607, 'miss': 608, 'moving': 609, 'near': 610, 'opening': 611, 'partner': 612, 'review': 613, 'robin': 614, 'seasons': 615, 'serial': 616, 'several': 617, 'silly': 618, 'unfortunately': 619, 'waste': 620, 'CASE': 621, 'FINAL': 622, 'FREE': 623, 'INCLUDING': 624, 'QSTN': 625, 'SETS': 626, 'air': 627, 'certainly': 628, 'complete': 629, 'couldn': 630, 'days': 631, 'death': 632, 'directors': 633, 'easily': 634, 'experience': 635, 'fight': 636, 'freeman': 637, 'genre': 638, 'hand': 639, 'husband': 640, 'king': 641, 'moments': 642, 'obvious': 643, 'perhaps': 644, 'society': 645, 'sort': 646, 'starts': 647, 'ten': 648, 'totally': 649, 'username': 650, 'viewer': 651, 'wants': 652, 'war': 653, 'wrote': 654, 'above': 655, 'already': 656, 'apparently': 657, 'cameron': 658, 'emotional': 659, 'enjoyable': 660, 'extremely': 661, 'eye': 662, 'f': 663, 'fine': 664, 'gay': 665, 'girls': 666, 'guess': 667, 'hero': 668, 'html': 669, 'j': 670, 'kumar': 671, 'leads': 672, 'lives': 673, 'male': 674, 'middle': 675, 'moment': 676, 'ok': 677, 'onerror': 678, 'onload': 679, 'predictable': 680, 'problem': 681, 'romance': 682, 'save': 683, 'segal': 684, 'small': 685, 'son': 686, 'supposed': 687, 'throughout': 688, 'try': 689, 'walk': 690, 'warehouse': 691, 'CALL': 692, 'DATA': 693, 'EXEC': 694, 'HOUR': 695, 'POWER': 696, 'across': 697, 'anyway': 698, 'badly': 699, 'behind': 700, 'bullock': 701, 'chance': 702, 'cheesy': 703, 'children': 704, 'china': 705, 'cliff': 706, 'decent': 707, 'entertaining': 708, 'expected': 709, 'forget': 710, 'gone': 711, 'heard': 712, 'indian': 713, 'interest': 714, 'js': 715, 'kids': 716, 'matter': 717, 'mostly': 718, 'opera': 719, 'picture': 720, 'plane': 721, 'possible': 722, 'problems': 723, 'school': 724, 'situation': 725, 'slow': 726, 'straight': 727, 'talking': 728, 'took': 729, 'usually': 730, 'COMMENTS': 731, 'DLLR': 732, 'GENERAL': 733, 'LEVEL': 734, 'RELEASE': 735, 'SELF': 736, 'actress': 737, 'alone': 738, 'believable': 739, 'brilliant': 740, 'care': 741, 'cheap': 742, 'com': 743, 'created': 744, 'dark': 745, 'doubt': 746, 'dull': 747, 'egon': 748, 'enjoyed': 749, 'etc': 750, 'expecting': 751, 'eyes': 752, 'fast': 753, 'god': 754, 'guys': 755, 'hate': 756, 'important': 757, 'india': 758, 'involved': 759, 'lester': 760, 'men': 761, 'military': 762, 'myself': 763, 'need': 764, 'playing': 765, 'please': 766, 'richard': 767, 'ridiculous': 768, 'roles': 769, 'showing': 770, 'snafu': 771, 'somewhat': 772, 'soon': 773, 'sound': 774, 'stories': 775, 'taylor': 776, 'television': 777, 'themselves': 778, 'third': 779, 'truth': 780, 'wonder': 781, 'york': 782, '’': 783, 'DIV': 784, 'FORWARD': 785, 'NUMBER': 786, 'USER': 787, 'WRITE': 788, 'acted': 789, 'actual': 790, 'aside': 791, 'ask': 792, 'basic': 793, 'beauty': 794, 'classic': 795, 'co': 796, 'deserves': 797, 'donner': 798, 'effort': 799, 'fantastic': 800, 'fiction': 801, 'five': 802, 'gang': 803, 'ghost': 804, 'happened': 805, 'hear': 806, 'hell': 807, 'hot': 808, 'image': 809, 'imdb': 810, 'killing': 811, 'late': 812, 'living': 813, 'masters': 814, 'material': 815, 'named': 816, 'nation': 817, 'officer': 818, 'otherwise': 819, 'parts': 820, 'race': 821, 'remember': 822, 'running': 823, 'sad': 824, 'saying': 825, 'shame': 826, 'shekhar': 827, 'sorry': 828, 'started': 829, 'supporting': 830, 'taking': 831, 'theme': 832, 'told': 833, 'tries': 834, 'usual': 835, 'worked': 836, 'wouldn': 837, '20if': 838, 'REMOVE': 839, 'SEQUENCE': 840, 'TABLE_NAME': 841, 'USING': 842, 'XML': 843, '_': 844, 'appears': 845, 'axel': 846, 'begins': 847, 'bottom': 848, 'bring': 849, 'cal': 850, 'child': 851, 'cinematography': 852, 'cops': 853, 'crime': 854, 'disaster': 855, 'earlier': 856, 'effect': 857, 'feeling': 858, 'filmmakers': 859, 'follow': 860, 'foo': 861, 'forced': 862, 'four': 863, 'friend': 864, 'front': 865, 'fury': 866, 'giving': 867, 'granted_role': 868, 'happy': 869, 'huge': 870, 'involving': 871, 'kill': 872, 'lack': 873, 'lee': 874, 'lines': 875, 'means': 876, 'needs': 877, 'om': 878, 'pass': 879, 'past': 880, 'poker': 881, 'puri': 882, 'random': 883, 'scenery': 884, 'soundtrack': 885, 'spent': 886, 'starring': 887, 'steven': 888, 'storyline': 889, 'strange': 890, 'technology': 891, 'tells': 892, 'upon': 893, 'url': 894, 'ways': 895, 'whose': 896, 'works': 897, 'zero': 898, 'COPY': 899, 'CREATE': 900, 'LOCATION': 901, 'ORDER': 902, 'OTHERS': 903, 'PERIOD': 904, 'SYSTEM': 905, 'UNION': 906, 'VIEW': 907, 'WITHIN': 908, 'airport': 909, 'alive': 910, 'aren': 911, 'attempt': 912, 'basically': 913, 'became': 914, 'cartoon': 915, 'clearly': 916, 'country': 917, 'credits': 918, 'de': 919, 'decide': 920, 'decided': 921, 'disappointed': 922, 'discovered': 923, 'early': 924, 'elephant': 925, 'ended': 926, 'eventually': 927, 'example': 928, 'fall': 929, 'favorite': 930, 'game': 931, 'hours': 932, 'humor': 933, 'kept': 934, 'leaves': 935, 'lots': 936, 'mention': 937, 'message': 938, 'mostel': 939, 'non': 940, 'ocean': 941, 'oscar': 942, 'peter': 943, 'plan': 944, 'poorly': 945, 'prompt': 946, 'relationship': 947, 'reviews': 948, 'science': 949, 'shakti': 950, 'shoot': 951, 'shots': 952, 'slightly': 953, 'sometimes': 954, 'spacey': 955, 'stand': 956, 'stop': 957, 'surprise': 958, 'towards': 959, 'turns': 960, 'typical': 961, 'unlike': 962, 'voice': 963, 'voyage': 964, 'wanted': 965, 'whether': 966, 'COLUMN_NAME': 967, 'MOVE': 968, 'OPEN': 969, 'PASSWORD': 970, 'among': 971, 'anderson': 972, 'anywhere': 973, 'apart': 974, 'appear': 975, 'audiences': 976, 'award': 977, 'beat': 978, 'ben': 979, 'beyond': 980, 'brings': 981, 'brought': 982, 'buy': 983, 'collette': 984, 'consider': 985, 'cookie': 986, 'dance': 987, 'dhoom': 988, 'dialog': 989, 'earth': 990, 'edison': 991, 'emotions': 992, 'ends': 993, 'era': 994, 'falls': 995, 'female': 996, 'figure': 997, 'further': 998, 'george': 999, 'honest': 1000, 'inside': 1001, 'introduced': 1002, 'kate': 1003, 'learn': 1004, 'literally': 1005, 'makers': 1006, 'managed': 1007, 'memorable': 1008, 'morgan': 1009, 'nana': 1010, 'neill': 1011, 'ones': 1012, 'perfectly': 1013, 'pilot': 1014, 'plus': 1015, 'possibly': 1016, 'produced': 1017, 'project': 1018, 'quality': 1019, 'rate': 1020, 'rated': 1021, 'realistic': 1022, 'recent': 1023, 'recommended': 1024, 'released': 1025, 'rock': 1026, 'says': 1027, 'seriously': 1028, 'setting': 1029, 'sit': 1030, 'somehow': 1031, 'st': 1032, 'surprised': 1033, 'taken': 1034, 'thanks': 1035, 'tried': 1036, 'visual': 1037, 'weak': 1038, 'whatever': 1039, 'whom': 1040, 'www': 1041, 'CURRENT': 1042, 'DATE': 1043, 'FOREIGN': 1044, 'GROUP': 1045, 'LEAD': 1046, 'NONE': 1047, 'RETURN': 1048, 'RQUT': 1049, 'accurate': 1050, 'addition': 1051, 'ago': 1052, 'animation': 1053, 'average': 1054, 'began': 1055, 'belafonte': 1056, 'biggest': 1057, 'bored': 1058, 'boss': 1059, 'box': 1060, 'boys': 1061, 'build': 1062, 'bunch': 1063, 'cause': 1064, 'central': 1065, 'clear': 1066, 'comic': 1067, 'compelling': 1068, 'cover': 1069, 'credit': 1070, 'crew': 1071, 'daniel': 1072, 'decides': 1073, 'drive': 1074, 'easy': 1075, 'effective': 1076, 'elements': 1077, 'entertainment': 1078, 'excuse': 1079, 'failed': 1080, 'faith': 1081, 'famous': 1082, 'fashion': 1083, 'german': 1084, 'goa': 1085, 'haven': 1086, 'heavy': 1087, 'hilarious': 1088, 'ii': 1089, 'intelligent': 1090, 'killed': 1091, 'krishna': 1092, 'laughs': 1093, 'meets': 1094, 'mood': 1095, 'mystery': 1096, 'needed': 1097, 'office': 1098, 'onto': 1099, 'pace': 1100, 'paced': 1101, 'patekar': 1102, 'paul': 1103, 'performer': 1104, 'points': 1105, 'pokmon': 1106, 'rachel': 1107, 'single': 1108, 'speak': 1109, 'streets': 1110, 'super': 1111, 'talks': 1112, 'theater': 1113, 'total': 1114, 'triad': 1115, 'uld': 1116, 'ultimately': 1117, 'water': 1118, 'wish': 1119, 'words': 1120, 'BEGIN': 1121, 'GREATEST': 1122, 'LARGE': 1123, 'LEADING': 1124, 'OBJECT': 1125, 'abby': 1126, 'admit': 1127, 'aspect': 1128, 'atmosphere': 1129, 'attack': 1130, 'barely': 1131, 'blah': 1132, 'brain': 1133, 'brief': 1134, 'bright': 1135, 'brother': 1136, 'career': 1137, 'caught': 1138, 'caulfield': 1139, 'chaplin': 1140, 'colon': 1141, 'compared': 1142, 'conclusion': 1143, 'cry': 1144, 'difference': 1145, 'direct': 1146, 'disturbing': 1147, 'doggie': 1148, 'e': 1149, 'edge': 1150, 'editing': 1151, 'emily': 1152, 'equally': 1153, 'evil': 1154, 'fails': 1155, 'filmed': 1156, 'fire': 1157, 'flying': 1158, 'former': 1159, 'grantee': 1160, 'happen': 1161, 'happens': 1162, 'hey': 1163, 'holes': 1164, 'humour': 1165, 'ideas': 1166, 'imagine': 1167, 'impressive': 1168, 'issue': 1169, 'issues': 1170, 'jimmy': 1171, 'jokes': 1172, 'keeps': 1173, 'kevin': 1174, 'khan': 1175, 'knows': 1176, 'lame': 1177, 'laugh': 1178, 'laughable': 1179, 'leaving': 1180, 'led': 1181, 'lesbian': 1182, 'lets': 1183, 'listener': 1184, 'lol': 1185, 'longer': 1186, 'married': 1187, 'meaning': 1188, 'mess': 1189, 'mistake': 1190, 'moral': 1191, 'novel': 1192, 'nowhere': 1193, 'nt': 1194, 'odd': 1195, 'onmouseover': 1196, 'opinion': 1197, 'outstanding': 1198, 'particularly': 1199, 'pete': 1200, 'players': 1201, 'pointless': 1202, 'producers': 1203, 'ride': 1204, 'sandra': 1205, 'sanjay': 1206, 'score': 1207, 'sees': 1208, 'sister': 1209, 'social': 1210, 'soldier': 1211, 'spirit': 1212, 'spoilers': 1213, 'stands': 1214, 'tale': 1215, 'tank': 1216, 'taste': 1217, 'tatsuhito': 1218, 'teenage': 1219, 'terrific': 1220, 'touched': 1221, 'tragic': 1222, 'trilogy': 1223, 'u0061': 1224, 'unexpected': 1225, 'various': 1226, 'viewers': 1227, 'vijay': 1228, 'wait': 1229, 'waiting': 1230, 'wild': 1231, 'win': 1232, 'winslet': 1233, 'wreck': 1234, 'x3c': 1235, 'yash': 1236, '‘': 1237, 'ADD': 1238, 'COMMENT': 1239, 'CONTENT': 1240, 'EVENT': 1241, 'FOLLOWING': 1242, 'HOLD': 1243, 'INPUT': 1244, 'LANGUAGE': 1245, 'MATCH': 1246, 'NAMES': 1247, 'OWNER': 1248, 'PUBLIC': 1249, 'RESULT': 1250, 'SEQUENCES': 1251, 'STATE': 1252, 'UNIQUE': 1253, 'VALUE': 1254, 'VALUES': 1255, 'added': 1256, 'agree': 1257, 'allowed': 1258, 'america': 1259, 'amount': 1260, 'annoying': 1261, 'apartment': 1262, 'attempts': 1263, 'attention': 1264, 'baby': 1265, 'blue': 1266, 'break': 1267, 'business': 1268, 'california': 1269, 'captain': 1270, 'carter': 1271, 'catch': 1272, 'certain': 1273, 'changes': 1274, 'chris': 1275, 'climax': 1276, 'commercial': 1277, 'considering': 1278, 'core': 1279, 'culture': 1280, 'damn': 1281, 'dean': 1282, 'depicted': 1283, 'dicaprio': 1284, 'dream': 1285, 'energy': 1286, 'entertained': 1287, 'ex': 1288, 'fair': 1289, 'feature': 1290, 'feelings': 1291, 'filled': 1292, 'finds': 1293, 'fit': 1294, 'focus': 1295, 'gas': 1296, 'google': 1297, 'gun': 1298, 'hi': 1299, 'honestly': 1300, 'hurt': 1301, 'iceberg': 1302, 'images': 1303, 'intelligence': 1304, 'island': 1305, 'jackson': 1306, 'joke': 1307, 'journey': 1308, 'karisma': 1309, 'kennedy': 1310, 'la': 1311, 'lady': 1312, 'lugia': 1313, 'majors': 1314, 'mcdermott': 1315, 'memory': 1316, 'million': 1317, 'monica': 1318, 'moves': 1319, 'musical': 1320, 'nor': 1321, 'note': 1322, 'numbers': 1323, 'parents': 1324, 'personal': 1325, 'plain': 1326, 'planet': 1327, 'pop': 1328, 'porn': 1329, 'portrayed': 1330, 'previous': 1331, 'q': 1332, 'quickly': 1333, 'r': 1334, 'raj': 1335, 'rare': 1336, 'rd': 1337, 'reading': 1338, 'reality': 1339, 'rented': 1340, 'renting': 1341, 'robert': 1342, 'room': 1343, 'rubbish': 1344, 'sadly': 1345, 'safe': 1346, 'saving': 1347, 'scary': 1348, 'schmidt': 1349, 'sequel': 1350, 'sexual': 1351, 'shinjuku': 1352, 'shower': 1353, 'situations': 1354, 'sleep': 1355, 'span': 1356, 'speaking': 1357, 'standards': 1358, 'starting': 1359, 'station': 1360, 'subject': 1361, 'successful': 1362, 'superdome': 1363, 'surprisingly': 1364, 'talented': 1365, 'teal': 1366, 'themes': 1367, 'thrown': 1368, 'tobacco': 1369, 'tom': 1370, 'town': 1371, 'traditional': 1372, 'trouble': 1373, 'u': 1374, 'unless': 1375, 'van': 1376, 'visuals': 1377, 'walking': 1378, 'wearing': 1379, 'weren': 1380, 'west': 1381, 'willing': 1382, 'word': 1383, 'x61': 1384, 'yourself': 1385, 'BASE64': 1386, 'EXPRESSION': 1387, 'MINUTE': 1388, 'PLANS': 1389, 'RSQBR': 1390, 'SIMILAR': 1391, 'SIMPLE': 1392, 'SPACE': 1393, 'ability': 1394, 'accept': 1395, 'acharya': 1396, 'acts': 1397, 'adventure': 1398, 'age': 1399, 'all_tables': 1400, 'alright': 1401, 'anand': 1402, 'apparent': 1403, 'appreciate': 1404, 'area': 1405, 'artist': 1406, 'audrey': 1407, 'avoid': 1408, 'bachchan': 1409, 'becoming': 1410, 'bodies': 1411, 'bolt': 1412, 'bother': 1413, 'brooks': 1414, 'bruce': 1415, 'cash': 1416, 'caused': 1417, 'changed': 1418, 'clever': 1419, 'clich': 1420, 'color': 1421, 'complex': 1422, 'concerned': 1423, 'confused': 1424, 'culkin': 1425, 'current_setting': 1426, 'dba_role_privs': 1427, 'deal': 1428, 'development': 1429, 'died': 1430, 'directing': 1431, 'disappointment': 1432, 'discovers': 1433, 'doctor': 1434, 'dr': 1435, 'dramatic': 1436, 'dressed': 1437, 'driving': 1438, 'dry': 1439, 'dylan': 1440, 'elephants': 1441, 'elizabeth': 1442, 'embed': 1443, 'emotion': 1444, 'entirely': 1445, 'epic': 1446, 'eva': 1447, 'fate': 1448, 'festival': 1449, 'filming': 1450, 'flat': 1451, 'flaws': 1452, 'football': 1453, 'fred': 1454, 'fresh': 1455, 'gangster': 1456, 'girlfriend': 1457, 'gore': 1458, 'government': 1459, 'greater': 1460, 'green': 1461, 'grot': 1462, 'hands': 1463, 'harsh': 1464, 'heir': 1465, 'helps': 1466, 'hindi': 1467, 'ill': 1468, 'impact': 1469, 'indeed': 1470, 'inspired': 1471, 'irene': 1472, 'johnny': 1473, 'jr': 1474, 'judge': 1475, 'knew': 1476, 'ladies': 1477, 'law': 1478, 'league': 1479, 'learned': 1480, 'liang': 1481, 'lived': 1482, 'lois': 1483, 'loose': 1484, 'loss': 1485, 'lousy': 1486, 'lpar': 1487, 'magic': 1488, 'manage': 1489, 'masterpiece': 1490, 'mediocre': 1491, 'michelle': 1492, 'minor': 1493, 'missing': 1494, 'narration': 1495, 'native': 1496, 'nature': 1497, 'offers': 1498, 'officers': 1499, 'okay': 1500, 'opportunity': 1501, 'outside': 1502, 'paint': 1503, 'passengers': 1504, 'peoples': 1505, 'picked': 1506, 'pieces': 1507, 'pikachu': 1508, 'plantation': 1509, 'plenty': 1510, 'poem': 1511, 'popular': 1512, 'portrayal': 1513, 'powerful': 1514, 'premise': 1515, 'private': 1516, 'puts': 1517, 'question': 1518, 'questions': 1519, 'radio': 1520, 'ready': 1521, 'recently': 1522, 'red': 1523, 'road': 1524, 'roll': 1525, 'rpar': 1526, 'rumors': 1527, 'sam': 1528, 'satya': 1529, 'scott': 1530, 'screenplay': 1531, 'seat': 1532, 'seemingly': 1533, 'sexuality': 1534, 'shock': 1535, 'shooting': 1536, 'sight': 1537, 'six': 1538, 'skin': 1539, 'smart': 1540, 'spend': 1541, 'spoiler': 1542, 'stealth': 1543, 'stock': 1544, 'stopped': 1545, 'summer': 1546, 'tautou': 1547, 'tea': 1548, 'tension': 1549, 'th': 1550, 'throw': 1551, 'tone': 1552, 'toni': 1553, 'track': 1554, 'translated': 1555, 'trash': 1556, 'twice': 1557, 'twist': 1558, 'unbelievable': 1559, 'utter': 1560, 'utterly': 1561, 'valuable': 1562, 'villain': 1563, 'wasted': 1564, 'winner': 1565, 'working': 1566, 'yashraj': 1567, 'younger': 1568, '3e': 1569, 'CHECK': 1570, 'EMPTY': 1571, 'ESCAPE': 1572, 'FUNCTION': 1573, 'ID': 1574, 'K': 1575, 'LOCAL': 1576, 'LSQBR': 1577, 'P': 1578, 'PREPARED': 1579, 'RANGE': 1580, 'RESPECT': 1581, 'SEARCH': 1582, 'TABLE': 1583, 'TRANSLATION': 1584, 'TYPES': 1585, 'absurd': 1586, 'ad4': 1587, 'adaptation': 1588, 'adult': 1589, 'affair': 1590, 'ah': 1591, 'ahead': 1592, 'alfred': 1593, 'ali': 1594, 'alien': 1595, 'aliens': 1596, 'all_tab_columns': 1597, 'all_users': 1598, 'allen': 1599, 'amateur': 1600, 'amusing': 1601, 'anybody': 1602, 'anymore': 1603, 'appeal': 1604, 'appearance': 1605, 'ardh': 1606, 'artistic': 1607, 'ash': 1608, 'aspects': 1609, 'atlantic': 1610, 'atrocity': 1611, 'barry': 1612, 'base': 1613, 'bergman': 1614, 'bet': 1615, 'bhaiyyaji': 1616, 'birds': 1617, 'blood': 1618, 'bought': 1619, 'bullets': 1620, 'burgess': 1621, 'bus': 1622, 'buying': 1623, 'cameo': 1624, 'canadian': 1625, 'cassie': 1626, 'ceylon': 1627, 'chandler': 1628, 'channel': 1629, 'charming': 1630, 'chemistry': 1631, 'christopher': 1632, 'cinematic': 1633, 'clark': 1634, 'coast': 1635, 'code': 1636, 'comics': 1637, 'complaint': 1638, 'concept': 1639, 'confirm': 1640, 'considered': 1641, 'creature': 1642, 'creepy': 1643, 'critics': 1644, 'cultural': 1645, 'dante': 1646, 'david': 1647, 'deeply': 1648, 'desperate': 1649, 'desperately': 1650, 'detail': 1651, 'details': 1652, 'develop': 1653, 'dirty': 1654, 'documentary': 1655, 'dollars': 1656, 'donna': 1657, 'drawing': 1658, 'dubbed': 1659, 'dutch': 1660, 'efforts': 1661, 'enemy': 1662, 'engaging': 1663, 'equiv': 1664, 'european': 1665, 'exciting': 1666, 'executed': 1667, 'existed': 1668, 'explained': 1669, 'extreme': 1670, 'feels': 1671, 'feet': 1672, 'fellow': 1673, 'fictional': 1674, 'fighting': 1675, 'filmmaker': 1676, 'focuses': 1677, 'forever': 1678, 'franchise': 1679, 'frankenstein': 1680, 'french': 1681, 'genres': 1682, 'golden': 1683, 'govind': 1684, 'grace': 1685, 'grew': 1686, 'ground': 1687, 'handed': 1688, 'handled': 1689, 'heavily': 1690, 'heinlein': 1691, 'herself': 1692, 'historical': 1693, 'humanity': 1694, 'impossible': 1695, 'impression': 1696, 'independent': 1697, 'information': 1698, 'japan': 1699, 'jewish': 1700, 'jones': 1701, 'kills': 1702, 'lacking': 1703, 'lanza': 1704, 'lawyer': 1705, 'leonardo': 1706, 'lesser': 1707, 'levels': 1708, 'limited': 1709, 'locations': 1710, 'loginuser': 1711, 'london': 1712, 'loses': 1713, 'm': 1714, 'mad': 1715, 'manner': 1716, 'mansion': 1717, 'marriage': 1718, 'meant': 1719, 'mel': 1720, 'melodrama': 1721, 'members': 1722, 'mentioned': 1723, 'meredith': 1724, 'met': 1725, 'meta': 1726, 'mix': 1727, 'models': 1728, 'modern': 1729, 'molly': 1730, 'motion': 1731, 'moved': 1732, 'myfile': 1733, 'naval': 1734, 'neither': 1735, 'newspaper': 1736, 'nicely': 1737, 'nihalani': 1738, 'normally': 1739, 'north': 1740, 'norton': 1741, 'notice': 1742, 'ori': 1743, 'pandey': 1744, 'par': 1745, 'pathetic': 1746, 'pay': 1747, 'perry': 1748, 'pfeiffer': 1749, 'phone': 1750, 'pick': 1751, 'plots': 1752, 'policemen': 1753, 'political': 1754, 'present': 1755, 'price': 1756, 'producing': 1757, 'professional': 1758, 'properly': 1759, 'proud': 1760, 'purpose': 1761, 'rarely': 1762, 'realized': 1763, 'record': 1764, 'religious': 1765, 'remake': 1766, 'reminiscent': 1767, 'replaced': 1768, 'rob': 1769, 'rogers': 1770, 'rope': 1771, 'ross': 1772, 'runs': 1773, 'screening': 1774, 'screwfly': 1775, 'sentimental': 1776, 'sexy': 1777, 'shakespeare': 1778, 'shanks': 1779, 'shop': 1780, 'sinking': 1781, 'smoking': 1782, 'soap': 1783, 'speech': 1784, 'speed': 1785, 'spin': 1786, 'steal': 1787, 'stick': 1788, 'stone': 1789, 'students': 1790, 'sub': 1791, 'suffered': 1792, 'suicide': 1793, 'suit': 1794, 'sunk': 1795, 'suspect': 1796, 'suspects': 1797, 'sweet': 1798, 'sysibm': 1799, 'teens': 1800, 'telling': 1801, 'terms': 1802, 'theaters': 1803, 'tim': 1804, 'towelhead': 1805, 'tragedy': 1806, 'train': 1807, 'twenty': 1808, 'twists': 1809, 'vanishing': 1810, 'vicki': 1811, 'virginia': 1812, 'voodoo': 1813, 'wall': 1814, 'warner': 1815, 'warning': 1816, 'wayne': 1817, 'wide': 1818, 'wit': 1819, 'wondering': 1820, 'worthy': 1821, 'x0003c': 1822, 'x28': 1823, 'x29': 1824, 'xp_cmdshell': 1825, 'ABSOLUTE': 1826, 'CONNECTION': 1827, 'CONTINUE': 1828, 'CONTROL': 1829, 'CROSS': 1830, 'DOUBLE': 1831, 'IMMEDIATELY': 1832, 'INSERT': 1833, 'KEY': 1834, 'LISTEN': 1835, 'LOWER': 1836, 'MEMBER': 1837, 'MONTH': 1838, 'PRIOR': 1839, 'QUOTE': 1840, 'REFRESH': 1841, 'UPPER': 1842, 'WINDOW': 1843, 'abbey': 1844, 'achieve': 1845, 'adam': 1846, 'advanced': 1847, 'adw': 1848, 'afraid': 1849, 'aged': 1850, 'aishwarya': 1851, 'amelie': 1852, 'anger': 1853, 'angry': 1854, 'animated': 1855, 'appeared': 1856, 'approach': 1857, 'ascript': 1858, 'asked': 1859, 'asking': 1860, 'assembly': 1861, 'atlantis': 1862, 'awards': 1863, 'band': 1864, 'battle': 1865, 'behavior': 1866, 'bent': 1867, 'bigger': 1868, 'bikini': 1869, 'bill': 1870, 'bird': 1871, 'bland': 1872, 'blockbuster': 1873, 'bobby': 1874, 'books': 1875, 'borrows': 1876, 'brando': 1877, 'brilliantly': 1878, 'british': 1879, 'bubble': 1880, 'building': 1881, 'burn': 1882, 'ca': 1883, 'camp': 1884, 'canada': 1885, 'cannavale': 1886, 'capture': 1887, 'cardboard': 1888, 'cat': 1889, 'center': 1890, 'century': 1891, 'chaos': 1892, 'cheyenne': 1893, 'childhood': 1894, 'choice': 1895, 'choices': 1896, 'chopra': 1897, 'chosen': 1898, 'clean': 1899, 'clichs': 1900, 'clothes': 1901, 'colors': 1902, 'combine': 1903, 'comedic': 1904, 'complain': 1905, 'computer': 1906, 'constantly': 1907, 'conversation': 1908, 'corrupt': 1909, 'corruption': 1910, 'costumes': 1911, 'crack': 1912, 'crazy': 1913, 'creative': 1914, 'crowd': 1915, 'cruise': 1916, 'cult': 1917, 'cute': 1918, 'cuts': 1919, 'dancing': 1920, 'decision': 1921, 'deck': 1922, 'deep': 1923, 'deepti': 1924, 'developed': 1925, 'dil': 1926, 'dimensional': 1927, 'disappointing': 1928, 'disbelief': 1929, 'distant': 1930, 'due': 1931, 'duo': 1932, 'dying': 1933, 'edited': 1934, 'edward': 1935, 'eight': 1936, 'elderly': 1937, 'enemies': 1938, 'engaged': 1939, 'engagement': 1940, 'exact': 1941, 'existence': 1942, 'expressions': 1943, 'extra': 1944, 'factor': 1945, 'facts': 1946, 'faithful': 1947, 'favourite': 1948, 'features': 1949, 'females': 1950, 'field': 1951, 'fighter': 1952, 'fill': 1953, 'finch': 1954, 'finding': 1955, 'fits': 1956, 'fly': 1957, 'followed': 1958, 'font': 1959, 'forgot': 1960, 'friday': 1961, 'friendship': 1962, 'furniture': 1963, 'gabriel': 1964, 'galaxy': 1965, 'generally': 1966, 'glad': 1967, 'gold': 1968, 'gosling': 1969, 'gouald': 1970, 'grade': 1971, 'gratuitous': 1972, 'grayson': 1973, 'gross': 1974, 'grow': 1975, 'hanging': 1976, 'hardly': 1977, 'haunting': 1978, 'health': 1979, 'hellraiser': 1980, 'helped': 1981, 'hence': 1982, 'heroes': 1983, 'hitting': 1984, 'honor': 1985, 'hopeless': 1986, 'horribly': 1987, 'humans': 1988, 'imagination': 1989, 'importance': 1990, 'impressed': 1991, 'included': 1992, 'incredible': 1993, 'indians': 1994, 'innocent': 1995, 'insane': 1996, 'instantly': 1997, 'insult': 1998, 'interested': 1999, 'interiors': 2000, 'international': 2001, 'jav': 2002, 'joe': 2003, 'joey': 2004, 'junk': 2005, 'kendall': 2006, 'kick': 2007, 'kinda': 2008, 'lake': 2009, 'laughing': 2010, 'legendary': 2011, 'letting': 2012, 'levine': 2013, 'lifetime': 2014, 'lighting': 2015, 'lights': 2016, 'lisa': 2017, 'list': 2018, 'loud': 2019, 'lovely': 2020, 'lowery': 2021, 'magnificent': 2022, 'maiden': 2023, 'makeup': 2024, 'martha': 2025, 'mary': 2026, 'mere': 2027, 'missile': 2028, 'ms': 2029, 'mst': 2030, 'mumbai': 2031, 'mummy': 2032, 'mysterious': 2033, 'nandini': 2034, 'nearly': 2035, 'net': 2036, 'news': 2037, 'nostalgia': 2038, 'notch': 2039, 'noted': 2040, 'nudity': 2041, 'oil': 2042, 'older': 2043, 'opposite': 2044, 'overly': 2045, 'painful': 2046, 'paper': 2047, 'particular': 2048, 'performing': 2049, 'personality': 2050, 'personally': 2051, 'photography': 2052, 'pitt': 2053, 'planets': 2054, 'planned': 2055, 'pooja': 2056, 'positive': 2057, 'potential': 2058, 'princess': 2059, 'print': 2060, 'product': 2061, 'profound': 2062, 'promise': 2063, 'proper': 2064, 'provided': 2065, 'pt': 2066, 'pure': 2067, 'quick': 2068, 'quiet': 2069, 'rage': 2070, 'rai': 2071, 'realize': 2072, 'reasons': 2073, 'rebecca': 2074, 'receive': 2075, 'redeeming': 2076, 'reduced': 2077, 'regular': 2078, 'remembered': 2079, 'reminds': 2080, 'remote': 2081, 'rental': 2082, 'rescue': 2083, 'research': 2084, 'resort': 2085, 'revealing': 2086, 'reveals': 2087, 'revenge': 2088, 'reviewer': 2089, 'rise': 2090, 'river': 2091, 'rory': 2092, 'rudd': 2093, 'ruined': 2094, 'ruthless': 2095, 'samantha': 2096, 'saved': 2097, 'scr': 2098, 'scriptlet': 2099, 'shadow': 2100, 'shocking': 2101, 'shoulder': 2102, 'shouldn': 2103, 'showed': 2104, 'singh': 2105, 'sitting': 2106, 'sky': 2107, 'slave': 2108, 'smita': 2109, 'smith': 2110, 'solid': 2111, 'solution': 2112, 'sorts': 2113, 'spectacular': 2114, 'spoil': 2115, 'spoorloos': 2116, 'spot': 2117, 'squad': 2118, 'srk': 2119, 'states': 2120, 'stays': 2121, 'stomach': 2122, 'store': 2123, 'stranger': 2124, 'strauss': 2125, 'student': 2126, 'subtitles': 2127, 'success': 2128, 'sucked': 2129, 'sudden': 2130, 'superb': 2131, 'suppose': 2132, 'survive': 2133, 'suspend': 2134, 'tack': 2135, 'teachers': 2136, 'technical': 2137, 'teenagers': 2138, 'tend': 2139, 'term': 2140, 'terrorist': 2141, 'theatrical': 2142, 'thoroughly': 2143, 'ticket': 2144, 'till': 2145, 'tired': 2146, 'titles': 2147, 'touch': 2148, 'touching': 2149, 'tough': 2150, 'toward': 2151, 'tradition': 2152, 'transfer': 2153, 'trip': 2154, 'trite': 2155, 'trust': 2156, 'tunes': 2157, 'turning': 2158, 'twisted': 2159, 'u0074': 2160, 'unfortunate': 2161, 'unlikely': 2162, 'unnecessary': 2163, 'unusual': 2164, 'uses': 2165, 'viewing': 2166, 'village': 2167, 'violent': 2168, 'virus': 2169, 'vishal': 2170, 'vision': 2171, 'vote': 2172, 'warmth': 2173, 'wasting': 2174, 'wealth': 2175, 'wear': 2176, 'week': 2177, 'weeks': 2178, 'weight': 2179, 'whatsoever': 2180, 'witness': 2181, 'wo': 2182, 'wooden': 2183, 'x000003c': 2184, 'x03c': 2185, 'x72': 2186, 'yeah': 2187, '3c': 2188, 'CONTAINS': 2189, 'COST': 2190, 'DEGREE': 2191, 'DEPTH': 2192, 'DESCRIBE': 2193, 'EXIT': 2194, 'FALSE': 2195, 'FLOOR': 2196, 'IMMEDIATE': 2197, 'JOIN': 2198, 'LINK': 2199, 'LOAD': 2200, 'SHARE': 2201, 'SOURCE': 2202, 'STATEMENT': 2203, 'SUBSTRING': 2204, 'TLDE': 2205, 'WHENEVER': 2206, 'accent': 2207, 'accident': 2208, 'actresses': 2209, 'adds': 2210, 'adults': 2211, 'afghanistan': 2212, 'al': 2213, 'alternate': 2214, 'americans': 2215, 'amongst': 2216, 'annoyed': 2217, 'answer': 2218, 'appreciated': 2219, 'april': 2220, 'arrested': 2221, 'artists': 2222, 'asian': 2223, 'associated': 2224, 'auteur': 2225, 'auto': 2226, 'backula': 2227, 'baker': 2228, 'balance': 2229, 'baloney': 2230, 'bar': 2231, 'barnes': 2232, 'beautifully': 2233, 'belt': 2234, 'besides': 2235, 'billy': 2236, 'blanc': 2237, 'blind': 2238, 'bloody': 2239, 'board': 2240, 'boat': 2241, 'boll': 2242, 'bowl': 2243, 'brave': 2244, 'breathtaking': 2245, 'briefly': 2246, 'broadcast': 2247, 'bromwell': 2248, 'brown': 2249, 'bukater': 2250, 'buried': 2251, 'caesar': 2252, 'candy': 2253, 'cannon': 2254, 'careful': 2255, 'carry': 2256, 'cartoons': 2257, 'chair': 2258, 'challenge': 2259, 'charlie': 2260, 'cliche': 2261, 'click': 2262, 'clunky': 2263, 'cold': 2264, 'college': 2265, 'colonel': 2266, 'command': 2267, 'common': 2268, 'companion': 2269, 'company': 2270, 'comparison': 2271, 'completed': 2272, 'concerns': 2273, 'conflict': 2274, 'constant': 2275, 'cooper': 2276, 'courage': 2277, 'covered': 2278, 'cowboy': 2279, 'craft': 2280, 'crafted': 2281, 'craig': 2282, 'crappy': 2283, 'creating': 2284, 'cringe': 2285, 'css': 2286, 'cultures': 2287, 'custody': 2288, 'cynical': 2289, 'daily': 2290, 'dangerous': 2291, 'darker': 2292, 'dated': 2293, 'davis': 2294, 'dawson': 2295, 'deadly': 2296, 'decade': 2297, 'delightful': 2298, 'delivered': 2299, 'departure': 2300, 'deranged': 2301, 'design': 2302, 'designer': 2303, 'desire': 2304, 'desired': 2305, 'desperation': 2306, 'destiny': 2307, 'detective': 2308, 'device': 2309, 'dewitt': 2310, 'dialogues': 2311, 'dick': 2312, 'dies': 2313, 'difficult': 2314, 'dire': 2315, 'discovery': 2316, 'dislike': 2317, 'dominion': 2318, 'downright': 2319, 'drawn': 2320, 'dreadful': 2321, 'dress': 2322, 'drinking': 2323, 'drug': 2324, 'dubbing': 2325, 'duncan': 2326, 'echo': 2327, 'embarrassing': 2328, 'enthusiasm': 2329, 'er': 2330, 'evidence': 2331, 'exceptions': 2332, 'excited': 2333, 'exist': 2334, 'exotic': 2335, 'expectations': 2336, 'experiences': 2337, 'exploitation': 2338, 'exploration': 2339, 'express': 2340, 'extent': 2341, 'faced': 2342, 'faces': 2343, 'fail': 2344, 'fallen': 2345, 'familiar': 2346, 'fare': 2347, 'farewell': 2348, 'fated': 2349, 'fear': 2350, 'fest': 2351, 'filling': 2352, 'finest': 2353, 'finish': 2354, 'fisher': 2355, 'flashbacks': 2356, 'flawed': 2357, 'flicks': 2358, 'flynn': 2359, 'folks': 2360, 'follows': 2361, 'food': 2362, 'forgettable': 2363, 'forgotten': 2364, 'fortune': 2365, 'frances': 2366, 'francisco': 2367, 'freedom': 2368, 'fully': 2369, 'gain': 2370, 'gangsters': 2371, 'gem': 2372, 'gender': 2373, 'generation': 2374, 'genuine': 2375, 'giant': 2376, 'gloria': 2377, 'goers': 2378, 'gordon': 2379, 'gorgeous': 2380, 'grainy': 2381, 'graphics': 2382, 'grips': 2383, 'grown': 2384, 'guessing': 2385, 'guns': 2386, 'hack': 2387, 'hackneyed': 2388, 'hamm': 2389, 'handling': 2390, 'happening': 2391, 'happenstance': 2392, 'harder': 2393, 'hasn': 2394, 'haunted': 2395, 'hearted': 2396, 'higher': 2397, 'hill': 2398, 'hong': 2399, 'hood': 2400, 'hoping': 2401, 'host': 2402, 'howard': 2403, 'hype': 2404, 'ie': 2405, 'increasingly': 2406, 'incredibly': 2407, 'industry': 2408, 'inferior': 2409, 'initial': 2410, 'insight': 2411, 'intense': 2412, 'intensity': 2413, 'intriguing': 2414, 'introduction': 2415, 'investigate': 2416, 'investigating': 2417, 'ipt': 2418, 'ishq': 2419, 'item': 2420, 'jennifer': 2421, 'jess': 2422, 'joan': 2423, 'johnson': 2424, 'julia': 2425, 'julie': 2426, 'jumping': 2427, 'jumps': 2428, 'june': 2429, 'justice': 2430, 'karloff': 2431, 'kathleen': 2432, 'keith': 2433, 'kidding': 2434, 'killers': 2435, 'knowing': 2436, 'krabb': 2437, 'lacked': 2438, 'lacks': 2439, 'land': 2440, 'lapd': 2441, 'lately': 2442, 'latter': 2443, 'laughed': 2444, 'lazy': 2445, 'le': 2446, 'learning': 2447, 'learns': 2448, 'lesson': 2449, 'liberal': 2450, 'lifeboat': 2451, 'light': 2452, 'likable': 2453, 'literature': 2454, 'logic': 2455, 'lord': 2456, 'lose': 2457, 'losing': 2458, 'lover': 2459, 'loves': 2460, 'lucky': 2461, 'luxury': 2462, 'mainly': 2463, 'makepeace': 2464, 'males': 2465, 'mark': 2466, 'math': 2467, 'matthew': 2468, 'mcelwee': 2469, 'meaningful': 2470, 'mein': 2471, 'merely': 2472, 'mid': 2473, 'mighty': 2474, 'mindless': 2475, 'missed': 2476, 'mitchell': 2477, 'moody': 2478, 'morning': 2479, 'moronic': 2480, 'mountain': 2481, 'murdering': 2482, 'murders': 2483, 'narrative': 2484, 'nasty': 2485, 'ne': 2486, 'neat': 2487, 'necessarily': 2488, 'negative': 2489, 'neighborhood': 2490, 'nine': 2491, 'nominated': 2492, 'nonsense': 2493, 'nude': 2494, 'occurs': 2495, 'originally': 2496, 'orleans': 2497, 'pacing': 2498, 'party': 2499, 'passed': 2500, 'patil': 2501, 'paying': 2502, 'payoff': 2503, 'physically': 2504, 'pleasure': 2505, 'poetic': 2506, 'pollack': 2507, 'port': 2508, 'posing': 2509, 'post': 2510, 'presence': 2511, 'president': 2512, 'press': 2513, 'pretensions': 2514, 'priestesses': 2515, 'prime': 2516, 'producer': 2517, 'profession': 2518, 'promising': 2519, 'promo': 2520, 'protagonist': 2521, 'protagonists': 2522, 'protective': 2523, 'provocative': 2524, 'provoking': 2525, 'putting': 2526, 'pvt': 2527, 'qualities': 2528, 'ra': 2529, 'raises': 2530, 'rama': 2531, 'reach': 2532, 'realizes': 2533, 'realm': 2534, 'rebel': 2535, 'received': 2536, 'reference': 2537, 'remind': 2538, 'reminded': 2539, 'required': 2540, 'results': 2541, 'reviewers': 2542, 'revolves': 2543, 'rings': 2544, 'ripped': 2545, 'roger': 2546, 'romania': 2547, 'romanian': 2548, 'rotten': 2549, 'ruin': 2550, 'rumours': 2551, 'ryan': 2552, 'sake': 2553, 'samurai': 2554, 'san': 2555, 'scotty': 2556, 'scripts': 2557, 'searching': 2558, 'secret': 2559, 'secrets': 2560, 'sell': 2561, 'sells': 2562, 'semi': 2563, 'send': 2564, 'sequels': 2565, 'sexually': 2566, 'sf': 2567, 'shah': 2568, 'shallow': 2569, 'shell': 2570, 'shetty': 2571, 'shorts': 2572, 'showdown': 2573, 'shut': 2574, 'sichuan': 2575, 'sign': 2576, 'sincere': 2577, 'singer': 2578, 'sisters': 2579, 'slapstick': 2580, 'sold': 2581, 'soldiers': 2582, 'sounds': 2583, 'spare': 2584, 'speaks': 2585, 'spending': 2586, 'standard': 2587, 'starred': 2588, 'stealing': 2589, 'steamy': 2590, 'steel': 2591, 'stephanie': 2592, 'stettner': 2593, 'stewart': 2594, 'storm': 2595, 'storytelling': 2596, 'stretch': 2597, 'stuart': 2598, 'studio': 2599, 'stunning': 2600, 'stunts': 2601, 'submit': 2602, 'subtext': 2603, 'subtle': 2604, 'sucks': 2605, 'suddenly': 2606, 'suffering': 2607, 'suggests': 2608, 'sundance': 2609, 'sunday': 2610, 'surreal': 2611, 'survivors': 2612, 'syscat': 2613, 'sysdummy1': 2614, 'ta': 2615, 'takashi': 2616, 'tapping': 2617, 'teach': 2618, 'tears': 2619, 'technically': 2620, 'techno': 2621, 'teen': 2622, 'test': 2623, 'theatre': 2624, 'thick': 2625, 'thinks': 2626, 'thomas': 2627, 'thoughts': 2628, 'thousands': 2629, 'threw': 2630, 'thrill': 2631, 'thumbs': 2632, 'tommy': 2633, 'ton': 2634, 'travel': 2635, 'treasure': 2636, 'treatment': 2637, 'troubled': 2638, 'tune': 2639, 'u0072': 2640, 'underrated': 2641, 'uninspired': 2642, 'universal': 2643, 'universe': 2644, 'unrealistic': 2645, 'unrelated': 2646, 'ups': 2647, 'useless': 2648, 'v': 2649, 'velankar': 2650, 'verhoeven': 2651, 'victims': 2652, 'viewed': 2653, 'views': 2654, 'villains': 2655, 'wallace': 2656, 'weakest': 2657, 'wealthy': 2658, 'weird': 2659, 'welcome': 2660, 'whilst': 2661, 'whoever': 2662, 'william': 2663, 'wilson': 2664, 'winning': 2665, 'wise': 2666, 'woody': 2667, 'worried': 2668, 'wow': 2669, 'writers': 2670, 'x27': 2671, 'x3a': 2672, 'x53': 2673, 'x74': 2674, 'yakuza': 2675, 'yea': 2676, 'yuppie': 2677, '20or': 2678, '2a': 2679, '2badw': 2680, '7c': 2681, 'ACCORDING': 2682, 'CHAR': 2683, 'CHARACTERISTICS': 2684, 'COMMIT': 2685, 'DB': 2686, 'DECLARE': 2687, 'DUAL': 2688, 'EXPLAIN': 2689, 'G': 2690, 'GRANTED': 2691, 'MIN': 2692, 'NATIONAL': 2693, 'NATURAL': 2694, 'OPTION': 2695, 'OUTER': 2696, 'PORTION': 2697, 'PRIMARY': 2698, 'PROGRAM': 2699, 'REPEAT': 2700, 'ROW': 2701, 'SCOPE': 2702, 'SECTION': 2703, 'SIZE': 2704, 'TOKEN': 2705, 'TREAT': 2706, 'abandoned': 2707, 'aboard': 2708, 'absorbing': 2709, 'abundance': 2710, 'abuse': 2711, 'academy': 2712, 'acclaimed': 2713, 'actions': 2714, 'adding': 2715, 'aditya': 2716, 'admire': 2717, 'advance': 2718, 'advances': 2719, 'adversaries': 2720, 'affects': 2721, 'ages': 2722, 'agreed': 2723, 'aids': 2724, 'aka': 2725, 'alas': 2726, 'album': 2727, 'alcoholic': 2728, 'allow': 2729, 'allows': 2730, 'allowscriptaccess': 2731, 'alternates': 2732, 'amanda': 2733, 'amateurish': 2734, 'amazed': 2735, 'ambiguous': 2736, 'amrapurkar': 2737, 'angel': 2738, 'angles': 2739, 'animals': 2740, 'anime': 2741, 'aniston': 2742, 'ann': 2743, 'anthony': 2744, 'anticipation': 2745, 'anyways': 2746, 'appropriate': 2747, 'arch': 2748, 'arcs': 2749, 'arms': 2750, 'army': 2751, 'aro': 2752, 'aroused': 2753, 'arrange': 2754, 'arrived': 2755, 'arriving': 2756, 'ashamed': 2757, 'asks': 2758, 'assortment': 2759, 'atop': 2760, 'august': 2761, 'author': 2762, 'automatically': 2763, 'backgrounds': 2764, 'balloon': 2765, 'bands': 2766, 'bang': 2767, 'barbet': 2768, 'bartlett': 2769, 'batmobile': 2770, 'beats': 2771, 'bed': 2772, 'beings': 2773, 'belief': 2774, 'bell': 2775, 'belong': 2776, 'belongs': 2777, 'beloved': 2778, 'bergen': 2779, 'berkeley': 2780, 'billion': 2781, 'blame': 2782, 'blanks': 2783, 'bloke': 2784, 'blow': 2785, 'blown': 2786, 'blows': 2787, 'blues': 2788, 'bombing': 2789, 'boyfriend': 2790, 'bradford': 2791, 'brains': 2792, 'breaking': 2793, 'breaks': 2794, 'breasts': 2795, 'bridge': 2796, 'bringing': 2797, 'broke': 2798, 'broken': 2799, 'brothers': 2800, 'brutality': 2801, 'buddy': 2802, 'buffs': 2803, 'bunuel': 2804, 'burned': 2805, 'burning': 2806, 'burns': 2807, 'burst': 2808, 'bush': 2809, 'butterfly': 2810, 'cake': 2811, 'calling': 2812, 'calvert': 2813, 'capt': 2814, 'captures': 2815, 'cares': 2816, 'caring': 2817, 'carried': 2818, 'casting': 2819, 'casual': 2820, 'catches': 2821, 'category': 2822, 'causes': 2823, 'cavalry': 2824, 'cd': 2825, 'centre': 2826, 'cesar': 2827, 'chaliya': 2828, 'challenged': 2829, 'charisma': 2830, 'charm': 2831, 'cheers': 2832, 'chick': 2833, 'childish': 2834, 'christian': 2835, 'chuck': 2836, 'church': 2837, 'claims': 2838, 'clichd': 2839, 'clock': 2840, 'closer': 2841, 'club': 2842, 'coach': 2843, 'coherent': 2844, 'collision': 2845, 'comedies': 2846, 'commentary': 2847, 'composer': 2848, 'concert': 2849, 'concubine': 2850, 'confidence': 2851, 'confusing': 2852, 'conn': 2853, 'constructed': 2854, 'contain': 2855, 'contemporary': 2856, 'context': 2857, 'continued': 2858, 'continuity': 2859, 'controlling': 2860, 'convenient': 2861, 'conventional': 2862, 'convey': 2863, 'convinced': 2864, 'correct': 2865, 'costs': 2866, 'costuming': 2867, 'cox': 2868, 'creates': 2869, 'criminal': 2870, 'criminals': 2871, 'crisis': 2872, 'criticism': 2873, 'criticisms': 2874, 'crooked': 2875, 'crowed': 2876, 'curious': 2877, 'curse': 2878, 'daniell': 2879, 'datafld': 2880, 'dataformatas': 2881, 'datasrc': 2882, 'dealt': 2883, 'debut': 2884, 'deceased': 2885, 'dedicated': 2886, 'deed': 2887, 'deeds': 2888, 'defeat': 2889, 'defend': 2890, 'definite': 2891, 'defying': 2892, 'delivers': 2893, 'delivery': 2894, 'description': 2895, 'deserve': 2896, 'deserved': 2897, 'desi': 2898, 'desperado': 2899, 'destroy': 2900, 'destruction': 2901, 'detract': 2902, 'diamond': 2903, 'differently': 2904, 'dinner': 2905, 'directorial': 2906, 'disco': 2907, 'discover': 2908, 'disney': 2909, 'display': 2910, 'distribution': 2911, 'documentaries': 2912, 'dog': 2913, 'dollar': 2914, 'dominated': 2915, 'doors': 2916, 'dope': 2917, 'doses': 2918, 'drag': 2919, 'drifter': 2920, 'driven': 2921, 'drum': 2922, 'dub': 2923, 'duck': 2924, 'dudikoff': 2925, 'dumb': 2926, 'duty': 2927, 'dysfunctional': 2928, 'east': 2929, 'eat': 2930, 'economy': 2931, 'effectively': 2932, 'egyptian': 2933, 'embarrassed': 2934, 'embarrassment': 2935, 'enter': 2936, 'entry': 2937, 'entwistle': 2938, 'environment': 2939, 'escapes': 2940, 'essential': 2941, 'essentially': 2942, 'established': 2943, 'estate': 2944, 'euro': 2945, 'eval': 2946, 'eve': 2947, 'everyday': 2948, 'everywhere': 2949, 'evidently': 2950, 'examples': 2951, 'exceeds': 2952, 'excessive': 2953, 'excitement': 2954, 'executive': 2955, 'experienced': 2956, 'explaining': 2957, 'exploited': 2958, 'explore': 2959, 'exploring': 2960, 'extras': 2961, 'fabulous': 2962, 'facial': 2963, 'fades': 2964, 'failing': 2965, 'fairly': 2966, 'falling': 2967, 'faster': 2968, 'fat': 2969, 'fatal': 2970, 'fault': 2971, 'featuring': 2972, 'ferrell': 2973, 'festivals': 2974, 'fianc': 2975, 'fifteen': 2976, 'fights': 2977, 'figured': 2978, 'files': 2979, 'filmfare': 2980, 'finale': 2981, 'finished': 2982, 'fishing': 2983, 'fist': 2984, 'fix': 2985, 'flashback': 2986, 'flawless': 2987, 'fledgling': 2988, 'flow': 2989, 'flown': 2990, 'forces': 2991, 'formal': 2992, 'forth': 2993, 'foundation': 2994, 'frameset': 2995, 'friendly': 2996, 'furthermore': 2997, 'fuzzy': 2998, 'fx': 2999, 'gabby': 3000, 'gantry': 3001, 'gems': 3002, 'gentleman': 3003, 'genuinely': 3004, 'gibney': 3005, 'gods': 3006, 'goitre': 3007, 'graffiti': 3008, 'grandson': 3009, 'graves': 3010, 'gripping': 3011, 'gritty': 3012, 'grounds': 3013, 'guarantee': 3014, 'guest': 3015, 'guilty': 3016, 'h1': 3017, 'habits': 3018, 'hair': 3019, 'hammond': 3020, 'harry': 3021, 'hart': 3022, 'hatred': 3023, 'hearts': 3024, 'heaven': 3025, 'height': 3026, 'held': 3027, 'hellox': 3028, 'henry': 3029, 'henstridge': 3030, 'herein': 3031, 'highlight': 3032, 'hills': 3033, 'hinglish': 3034, 'hitchcockian': 3035, 'hits': 3036, 'holds': 3037, 'homeless': 3038, 'hopefully': 3039, 'hopes': 3040, 'horner': 3041, 'horrendous': 3042, 'horrific': 3043, 'hospital': 3044, 'hp': 3045, 'hughes': 3046, 'huh': 3047, 'hundred': 3048, 'hunting': 3049, 'hut': 3050, 'hybrid': 3051, 'hyde': 3052, 'ida': 3053, 'imagery': 3054, 'imagined': 3055, 'impress': 3056, 'improved': 3057, 'inane': 3058, 'include': 3059, 'includes': 3060, 'inducing': 3061, 'inept': 3062, 'inevitable': 3063, 'inexplicable': 3064, 'injection': 3065, 'injects': 3066, 'injustice': 3067, 'innovative': 3068, 'insomnia': 3069, 'inspector': 3070, 'instructional': 3071, 'interview': 3072, 'intrigue': 3073, 'intro': 3074, 'invisible': 3075, 'iq': 3076, 'irby': 3077, 'irish': 3078, 'ironic': 3079, 'ironically': 3080, 'ja': 3081, 'jason': 3082, 'jesus': 3083, 'jet': 3084, 'joins': 3085, 'juice': 3086, 'jump': 3087, 'jumped': 3088, 'justify': 3089, 'kamina': 3090, 'kaminsky': 3091, 'karishma': 3092, 'keel': 3093, 'keeping': 3094, 'kiss': 3095, 'knock': 3096, 'kong': 3097, 'koolhoven': 3098, 'krabbe': 3099, 'kudrow': 3100, 'lakhan': 3101, 'lands': 3102, 'lazerov': 3103, 'lean': 3104, 'leather': 3105, 'legacy': 3106, 'legend': 3107, 'leon': 3108, 'lesbians': 3109, 'lethal': 3110, 'lie': 3111, 'lifestyle': 3112, 'likely': 3113, 'likes': 3114, 'literal': 3115, 'located': 3116, 'lonely': 3117, 'longoria': 3118, 'loosely': 3119, 'lorna': 3120, 'los': 3121, 'loser': 3122, 'louis': 3123, 'lovers': 3124, 'lovett': 3125, 'ludicrous': 3126, 'lying': 3127, 'machines': 3128, 'maid': 3129, 'mail': 3130, 'majority': 3131, 'manages': 3132, 'march': 3133, 'marla': 3134, 'marmont': 3135, 'marries': 3136, 'marry': 3137, 'mass': 3138, 'massive': 3139, 'matrix': 3140, 'matt': 3141, 'matters': 3142, 'maupin': 3143, 'maxwell': 3144, 'mayweather': 3145, 'meanwhile': 3146, 'meeting': 3147, 'menace': 3148, 'menacing': 3149, 'mentally': 3150, 'merging': 3151, 'messy': 3152, 'metaphor': 3153, 'miikes': 3154, 'mike': 3155, 'mild': 3156, 'millennium': 3157, 'miller': 3158, 'mills': 3159, 'miscast': 3160, 'misleading': 3161, 'mission': 3162, 'mom': 3163, 'monkey': 3164, 'monster': 3165, 'moon': 3166, 'motions': 3167, 'motives': 3168, 'motor': 3169, 'msb': 3170, 'multiple': 3171, 'murdered': 3172, 'murderer': 3173, 'mythology': 3174, 'natasha': 3175, 'nations': 3176, 'naturally': 3177, 'needless': 3178, 'nerd': 3179, 'nevertheless': 3180, 'nintendo': 3181, 'ninth': 3182, 'noir': 3183, 'norm': 3184, 'normal': 3185, 'nostalgic': 3186, 'noticed': 3187, 'nudie': 3188, 'obligation': 3189, 'observe': 3190, 'obsessed': 3191, 'offering': 3192, 'opinions': 3193, 'opportunities': 3194, 'ordinary': 3195, 'oscars': 3196, 'outbreak': 3197, 'outcome': 3198, 'outfit': 3199, 'overkill': 3200, 'overlooked': 3201, 'paid': 3202, 'pair': 3203, 'panaghoy': 3204, 'pander': 3205, 'parasitic': 3206, 'partners': 3207, 'passion': 3208, 'patrick': 3209, 'penn': 3210, 'per': 3211, 'percy': 3212, 'performed': 3213, 'perspective': 3214, 'pg': 3215, 'phantom': 3216, 'phoebe': 3217, 'physical': 3218, 'pictures': 3219, 'pink': 3220, 'places': 3221, 'player': 3222, 'plight': 3223, 'poignant': 3224, 'portrayals': 3225, 'poster': 3226, 'powers': 3227, 'pr': 3228, 'practical': 3229, 'practically': 3230, 'practice': 3231, 'pre': 3232, 'precious': 3233, 'predecessor': 3234, 'prejudices': 3235, 'premiere': 3236, 'pressure': 3237, 'presumably': 3238, 'pretend': 3239, 'pretentious': 3240, 'prettier': 3241, 'projects': 3242, 'prolonged': 3243, 'prominent': 3244, 'proved': 3245, 'proves': 3246, 'provide': 3247, 'provides': 3248, 'providing': 3249, 'ps': 3250, 'psycho': 3251, 'pulitzer': 3252, 'pun': 3253, 'punches': 3254, 'push': 3255, 'raccoon': 3256, 'ran': 3257, 'ranch': 3258, 'rang': 3259, 'rape': 3260, 'reactions': 3261, 'realizing': 3262, 'reckon': 3263, 'recognition': 3264, 'refreshing': 3265, 'refuses': 3266, 'regarding': 3267, 'relationships': 3268, 'relatively': 3269, 'relatives': 3270, 'remembering': 3271, 'renying': 3272, 'repeatedly': 3273, 'repeating': 3274, 'repetitive': 3275, 'report': 3276, 'reporter': 3277, 'reports': 3278, 'represent': 3279, 'represents': 3280, 'reputation': 3281, 'resemblance': 3282, 'responsible': 3283, 'resulting': 3284, 'reviewing': 3285, 'ridden': 3286, 'rip': 3287, 'roadside': 3288, 'rocket': 3289, 'rod': 3290, 'rolled': 3291, 'rookie': 3292, 'roots': 3293, 'rough': 3294, 'rukh': 3295, 'runway': 3296, 'rydell': 3297, 'sadashiv': 3298, 'sadistic': 3299, 'sailor': 3300, 'sally': 3301, 'sank': 3302, 'sarcasm': 3303, 'sassy': 3304, 'sat': 3305, 'satire': 3306, 'satisfaction': 3307, 'saves': 3308, 'scenario': 3309, 'scenarios': 3310, 'scientist': 3311, 'scream': 3312, 'scri': 3313, 'se': 3314, 'seconds': 3315, 'seldom': 3316, 'selleck': 3317, 'separate': 3318, 'serials': 3319, 'settings': 3320, 'seventh': 3321, 'shahrukh': 3322, 'shaky': 3323, 'shape': 3324, 'sharing': 3325, 'sharp': 3326, 'shift': 3327, 'shocked': 3328, 'shoddy': 3329, 'shunned': 3330, 'sid': 3331, 'signed': 3332, 'signs': 3333, 'silver': 3334, 'similarities': 3335, 'similarly': 3336, 'simplistic': 3337, 'sin': 3338, 'sing': 3339, 'singers': 3340, 'sir': 3341, 'site': 3342, 'skeptical': 3343, 'skills': 3344, 'skip': 3345, 'sleeping': 3346, 'slim': 3347, 'smile': 3348, 'somewhere': 3349, 'sought': 3350, 'soul': 3351, 'sounded': 3352, 'sour': 3353, 'south': 3354, 'southern': 3355, 'spectacle': 3356, 'spew': 3357, 'spiderman': 3358, 'spite': 3359, 'spoiled': 3360, 'spooky': 3361, 'spots': 3362, 'spread': 3363, 'spreading': 3364, 'spring': 3365, 'sqlvuln': 3366, 'square': 3367, 'stage': 3368, 'stature': 3369, 'status': 3370, 'stay': 3371, 'steals': 3372, 'steeped': 3373, 'stereotypes': 3374, 'steve': 3375, 'stevens': 3376, 'stolen': 3377, 'straw': 3378, 'stretched': 3379, 'stronger': 3380, 'strongly': 3381, 'structured': 3382, 'struggling': 3383, 'stupidity': 3384, 'subplot': 3385, 'substantial': 3386, 'suburban': 3387, 'suck': 3388, 'suffers': 3389, 'summary': 3390, 'surely': 3391, 'surprising': 3392, 'survived': 3393, 'susan': 3394, 'swear': 3395, 'sympathetic': 3396, 'talents': 3397, 'tall': 3398, 'tanks': 3399, 'teams': 3400, 'tech': 3401, 'techniques': 3402, 'teeth': 3403, 'tender': 3404, 'tends': 3405, 'tense': 3406, 'terribly': 3407, 'terror': 3408, 'therefore': 3409, 'thin': 3410, 'thirties': 3411, 'thousand': 3412, 'thrillers': 3413, 'thrilling': 3414, 'thugs': 3415, 'thunder': 3416, 'thus': 3417, 'tie': 3418, 'tight': 3419, 'timeless': 3420, 'timing': 3421, 'toast': 3422, 'toilet': 3423, 'tonight': 3424, 'torn': 3425, 'trade': 3426, 'trained': 3427, 'training': 3428, 'transformation': 3429, 'traveling': 3430, 'travers': 3431, 'trek': 3432, 'tribute': 3433, 'tripe': 3434, 'truck': 3435, 'tube': 3436, 'twain': 3437, 'u0065': 3438, 'u006c': 3439, 'uk': 3440, 'ulli': 3441, 'uninteresting': 3442, 'united': 3443, 'unsatisfying': 3444, 'unsinkable': 3445, 'uplifting': 3446, 'vaguely': 3447, 'valerie': 3448, 'variable': 3449, 'vehicle': 3450, 'versions': 3451, 'victim': 3452, 'visually': 3453, 'vivid': 3454, 'w': 3455, 'wannabe': 3456, 'warm': 3457, 'warn': 3458, 'warren': 3459, 'wars': 3460, 'wartime': 3461, 'washington': 3462, 'watchable': 3463, 'wb': 3464, 'weapons': 3465, 'wedding': 3466, 'weekend': 3467, 'western': 3468, 'whining': 3469, 'widescreen': 3470, 'width': 3471, 'wiley': 3472, 'wind': 3473, 'wings': 3474, 'wisconsin': 3475, 'worlds': 3476, 'worldss': 3477, 'worn': 3478, 'worrying': 3479, 'worship': 3480, 'worthwhile': 3481, 'wounds': 3482, 'wrapped': 3483, 'x00003c': 3484, 'x003c': 3485, 'x63': 3486, 'x69': 3487, 'x6a': 3488, 'x6c': 3489, 'x73': 3490, 'x76': 3491, 'xmlns': 3492, 'xu': 3493, 'zane': 3494, 'zhou': 3495, 'zhu': 3496, 'zmed': 3497, '™': 3498})\n"
     ]
    }
   ],
   "source": [
    "#initialize glove embeddings\n",
    "TEXT.build_vocab(train_data,min_freq=3,vectors = \"glove.6B.100d\")  \n",
    "LABEL.build_vocab(train_data)\n",
    "\n",
    "#No. of unique tokens in text\n",
    "print(\"Size of TEXT vocabulary:\",len(TEXT.vocab))\n",
    "\n",
    "#No. of unique tokens in label\n",
    "print(\"Size of LABEL vocabulary:\",len(LABEL.vocab))\n",
    "\n",
    "#Commonly used words\n",
    "#print(TEXT.vocab.freqs.most_common(100))  \n",
    "\n",
    "#Word dictionary\n",
    "print(TEXT.vocab.stoi)   "
   ]
  },
  {
   "cell_type": "code",
   "execution_count": null,
   "metadata": {},
   "outputs": [],
   "source": [
    "#check whether cuda is available\n",
    "device = torch.device('cuda' if torch.cuda.is_available() else 'cpu')  \n",
    "\n",
    "#set batch size\n",
    "BATCH_SIZE = 64\n",
    "\n",
    "#Load an iterator\n",
    "train_iterator, valid_iterator = data.BucketIterator.splits(\n",
    "    (train_data, valid_data), \n",
    "    batch_size = BATCH_SIZE,\n",
    "    sort_key = lambda x: len(x.text),\n",
    "    sort_within_batch=True,\n",
    "    device = device)"
   ]
  },
  {
   "cell_type": "code",
   "execution_count": null,
   "metadata": {},
   "outputs": [],
   "source": [
    "import torch.nn as nn\n",
    "\n",
    "class classifier(nn.Module):\n",
    "    \n",
    "    #define all the layers used in model\n",
    "    def __init__(self, vocab_size, embedding_dim, hidden_dim, output_dim, n_layers, \n",
    "                 bidirectional, dropout):\n",
    "        \n",
    "        #Constructor\n",
    "        super().__init__()          \n",
    "        \n",
    "        #embedding layer\n",
    "        self.embedding = nn.Embedding(vocab_size, embedding_dim)\n",
    "        \n",
    "        #lstm layer\n",
    "        self.lstm = nn.LSTM(embedding_dim, \n",
    "                           hidden_dim, \n",
    "                           num_layers=n_layers, \n",
    "                           bidirectional=bidirectional, \n",
    "                           dropout=dropout,\n",
    "                           batch_first=True)\n",
    "        \n",
    "        #dense layer\n",
    "        self.fc = nn.Linear(hidden_dim * 2, output_dim)\n",
    "        self.act = nn.Sigmoid()\n",
    "    def forward(self, text, text_lengths):\n",
    "        \n",
    "        #text = [batch size,sent_length]\n",
    "        embedded = self.embedding(text)\n",
    "        #embedded = [batch size, sent_len, emb dim]\n",
    "        #packed sequence\n",
    "        packed_embedded = nn.utils.rnn.pack_padded_sequence(embedded, text_lengths,batch_first=True)\n",
    "        \n",
    "        packed_output, (hidden, cell) = self.lstm(packed_embedded)\n",
    "        #hidden = [batch size, num layers * num directions,hid dim]\n",
    "        #cell = [batch size, num layers * num directions,()hid dim]\n",
    "        \n",
    "        #concat the final forward and backward hidden state\n",
    "        hidden = torch.cat((hidden[-2,:,:], hidden[-1,:,:]), dim = 1)\n",
    "                \n",
    "        #hidden = [batch size, hid dim * num directions]\n",
    "        dense_outputs=self.fc(hidden)\n",
    "\n",
    "        #Final activation function\n",
    "        outputs=self.act(dense_outputs)\n",
    "        \n",
    "        return outputs"
   ]
  },
  {
   "cell_type": "code",
   "execution_count": null,
   "metadata": {},
   "outputs": [],
   "source": [
    "#define hyperparameters\n",
    "size_of_vocab = len(TEXT.vocab)\n",
    "embedding_dim = 100\n",
    "num_hidden_nodes = 32\n",
    "num_output_nodes = 1\n",
    "num_layers = 2\n",
    "bidirection = True\n",
    "dropout = 0.2\n",
    "\n",
    "#instantiate the model\n",
    "model = classifier(size_of_vocab, embedding_dim, num_hidden_nodes,num_output_nodes, num_layers, \n",
    "                   bidirectional = True, dropout = dropout)"
   ]
  },
  {
   "cell_type": "code",
   "execution_count": null,
   "metadata": {},
   "outputs": [
    {
     "name": "stdout",
     "output_type": "stream",
     "text": [
      "classifier(\n",
      "  (embedding): Embedding(3499, 100)\n",
      "  (lstm): LSTM(100, 32, num_layers=2, batch_first=True, dropout=0.2, bidirectional=True)\n",
      "  (fc): Linear(in_features=64, out_features=1, bias=True)\n",
      "  (act): Sigmoid()\n",
      ")\n",
      "The model has 409,357 trainable parameters\n",
      "torch.Size([3499, 100])\n"
     ]
    }
   ],
   "source": [
    "#architecture\n",
    "print(model)\n",
    "\n",
    "#No. of trianable parameters\n",
    "def count_parameters(model):\n",
    "    return sum(p.numel() for p in model.parameters() if p.requires_grad)\n",
    "    \n",
    "print(f'The model has {count_parameters(model):,} trainable parameters')\n",
    "\n",
    "#Initialize the pretrained embedding\n",
    "pretrained_embeddings = TEXT.vocab.vectors\n",
    "model.embedding.weight.data.copy_(pretrained_embeddings)\n",
    "\n",
    "print(pretrained_embeddings.shape)"
   ]
  },
  {
   "cell_type": "code",
   "execution_count": null,
   "metadata": {},
   "outputs": [],
   "source": [
    "import torch.optim as optim\n",
    "\n",
    "#define optimizer and loss\n",
    "optimizer = optim.Adam(model.parameters())\n",
    "criterion = nn.BCELoss()\n",
    "\n",
    "#define metric\n",
    "def binary_accuracy(preds, y):\n",
    "    #round predictions to the closest integer\n",
    "    rounded_preds = torch.round(preds)\n",
    "    \n",
    "    correct = (rounded_preds == y).float() \n",
    "    acc = correct.sum() / len(correct)\n",
    "    return acc\n",
    "    \n",
    "#push to cuda if available\n",
    "model = model.to(device)\n",
    "criterion = criterion.to(device)"
   ]
  },
  {
   "cell_type": "code",
   "execution_count": null,
   "metadata": {},
   "outputs": [],
   "source": [
    "def train(model, iterator, optimizer, criterion):\n",
    "    \n",
    "    #initialize every epoch \n",
    "    epoch_loss = 0\n",
    "    epoch_acc = 0\n",
    "    \n",
    "    #set the model in training phase\n",
    "    model.train()  \n",
    "    \n",
    "    for batch in iterator:\n",
    "        \n",
    "        #resets the gradients after every batch\n",
    "        optimizer.zero_grad()   \n",
    "        \n",
    "        #retrieve text and no. of words\n",
    "        text, text_lengths = batch.text   \n",
    "        \n",
    "        #convert to 1D tensor\n",
    "        predictions = model(text, text_lengths).squeeze()  \n",
    "        \n",
    "        #compute the loss\n",
    "        \n",
    "        \n",
    "        loss = criterion(predictions, batch.label)        \n",
    "        \n",
    "        #compute the binary accuracy\n",
    "        \n",
    "        acc = binary_accuracy(predictions, batch.label)   \n",
    "        \n",
    "        #backpropage the loss and compute the gradients\n",
    "        loss.backward()       \n",
    "        \n",
    "        #update the weights\n",
    "        optimizer.step()      \n",
    "        \n",
    "        #loss and accuracy\n",
    "        epoch_loss += loss.item()  \n",
    "        epoch_acc += acc.item()    \n",
    "        \n",
    "    return epoch_loss / len(iterator), epoch_acc / len(iterator)"
   ]
  },
  {
   "cell_type": "code",
   "execution_count": null,
   "metadata": {},
   "outputs": [],
   "source": []
  },
  {
   "cell_type": "code",
   "execution_count": null,
   "metadata": {},
   "outputs": [],
   "source": [
    "def evaluate(model, iterator, criterion):\n",
    "    \n",
    "    #initialize every epoch\n",
    "    epoch_loss = 0\n",
    "    epoch_acc = 0\n",
    "\n",
    "    #deactivating dropout layers\n",
    "    model.eval()\n",
    "    \n",
    "    #deactivates autograd\n",
    "    with torch.no_grad():\n",
    "    \n",
    "        for batch in iterator:\n",
    "        \n",
    "            #retrieve text and no. of words\n",
    "            text, text_lengths = batch.text\n",
    "            \n",
    "            #convert to 1d tensor\n",
    "            predictions = model(text, text_lengths).squeeze()\n",
    "            \n",
    "            #compute loss and accuracy\n",
    "            loss = criterion(predictions, batch.label)\n",
    "            acc = binary_accuracy(predictions, batch.label)\n",
    "            \n",
    "            #keep track of loss and accuracy\n",
    "            epoch_loss += loss.item()\n",
    "            epoch_acc += acc.item()\n",
    "        \n",
    "    return epoch_loss / len(iterator), epoch_acc / len(iterator)"
   ]
  },
  {
   "cell_type": "code",
   "execution_count": null,
   "metadata": {
    "scrolled": false
   },
   "outputs": [
    {
     "name": "stdout",
     "output_type": "stream",
     "text": [
      "\tTrain Loss: 0.626 | Train Acc: 39.80%\n",
      "\t Val. Loss: 0.428 |  Val. Acc: 32.42%\n",
      "\tTrain Loss: 0.052 | Train Acc: 33.31%\n",
      "\t Val. Loss: -0.309 |  Val. Acc: 31.25%\n",
      "\tTrain Loss: -0.793 | Train Acc: 44.49%\n",
      "\t Val. Loss: -1.124 |  Val. Acc: 60.55%\n",
      "\tTrain Loss: -1.500 | Train Acc: 59.62%\n",
      "\t Val. Loss: -1.698 |  Val. Acc: 64.84%\n",
      "\tTrain Loss: -2.050 | Train Acc: 64.80%\n",
      "\t Val. Loss: -2.082 |  Val. Acc: 68.55%\n"
     ]
    }
   ],
   "source": [
    "N_EPOCHS = 6\n",
    "best_valid_loss = float('inf')\n",
    "\n",
    "for epoch in range(N_EPOCHS):\n",
    "     \n",
    "    #train the model\n",
    "    train_loss, train_acc = train(model, train_iterator, optimizer, criterion)\n",
    "    \n",
    "    #evaluate the model\n",
    "    valid_loss, valid_acc = evaluate(model, valid_iterator, criterion)\n",
    "    \n",
    "    #save the best model\n",
    "    if valid_loss < best_valid_loss:\n",
    "        best_valid_loss = valid_loss\n",
    "        torch.save(model.state_dict(), 'saved_weights.pt')\n",
    "    \n",
    "    print(f'\\tTrain Loss: {train_loss:.3f} | Train Acc: {train_acc*100:.2f}%')\n",
    "    print(f'\\t Val. Loss: {valid_loss:.3f} |  Val. Acc: {valid_acc*100:.2f}%')"
   ]
  },
  {
   "cell_type": "code",
   "execution_count": null,
   "metadata": {},
   "outputs": [],
   "source": [
    "import spacy\n",
    "\n",
    "nlp = spacy.load('en')\n",
    "\n",
    "def predict(model,sentence):\n",
    "    \n",
    "    tokenized = [tok.text for tok in nlp.tokenizer(sql_tokenizer(sentence))] # tokenize the sentence\n",
    "    print(tokenized)\n",
    "    indexed = [TEXT.vocab.stoi[t] for t in tokenized] # convert to integer sequence\n",
    "    print(indexed)\n",
    "    length = [len(indexed)] #compute no. of words\n",
    "    tensor = torch.LongTensor(indexed).to(device) # convert to tensor\n",
    "    tensor = tensor.unsqueeze(1).T\n",
    "    length_tensor = torch.LongTensor(length)\n",
    "    prediction = model(tensor,length_tensor)\n",
    "    return prediction.item()\n",
    "    \n"
   ]
  },
  {
   "cell_type": "markdown",
   "metadata": {},
   "source": [
    "# safe text"
   ]
  },
  {
   "cell_type": "code",
   "execution_count": null,
   "metadata": {},
   "outputs": [],
   "source": [
    "predict(model,\"im good\")"
   ]
  },
  {
   "cell_type": "markdown",
   "metadata": {},
   "source": [
    "# low level"
   ]
  },
  {
   "cell_type": "code",
   "execution_count": null,
   "metadata": {},
   "outputs": [],
   "source": [
    "predict(model,'hey there <IMG SRC=javascript:alert(&quot;XSS&quot;)>')"
   ]
  },
  {
   "cell_type": "markdown",
   "metadata": {},
   "source": [
    "# medium level"
   ]
  },
  {
   "cell_type": "code",
   "execution_count": null,
   "metadata": {},
   "outputs": [],
   "source": [
    "predict(model,\"<IMG SRC=&#106;&#97;&#118;&#97;&#115;&#99;&#114;&#105;&#112;&#116;&#58;&#97;&#108;&#101;&#114;&#116;&#40;&#39;&#88;&#83;&#83;&#39;&#41;>\")"
   ]
  },
  {
   "cell_type": "markdown",
   "metadata": {},
   "source": [
    "# high level"
   ]
  },
  {
   "cell_type": "code",
   "execution_count": null,
   "metadata": {},
   "outputs": [],
   "source": [
    "predict(model,\"IMG SRC=&#x6A&#x61&#x76&#x61&#x73&#x63&#x72&#x69&#x70&#x74&#x3A&#x61&#x6C&#x65&#x72&#x74&#x28&#x27&#x58&#x53&#x53&#x27&#x29\")"
   ]
  },
  {
   "cell_type": "markdown",
   "metadata": {},
   "source": [
    "# sql injection"
   ]
  },
  {
   "cell_type": "code",
   "execution_count": null,
   "metadata": {},
   "outputs": [],
   "source": [
    "predict(model,\"SELECT * from table where id = 1 union select 1,2,3\")"
   ]
  },
  {
   "cell_type": "code",
   "execution_count": null,
   "metadata": {},
   "outputs": [],
   "source": [
    "predict(model, 'hey im here hey NAake*#() alert whats up how yah doin man @#')"
   ]
  }
 ],
 "metadata": {
  "kernelspec": {
   "display_name": "Python 3",
   "language": "python",
   "name": "python3"
  },
  "language_info": {
   "codemirror_mode": {
    "name": "ipython",
    "version": 3
   },
   "file_extension": ".py",
   "mimetype": "text/x-python",
   "name": "python",
   "nbconvert_exporter": "python",
   "pygments_lexer": "ipython3",
   "version": "3.6.7"
  }
 },
 "nbformat": 4,
 "nbformat_minor": 2
}

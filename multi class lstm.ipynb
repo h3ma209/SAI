{
 "cells": [
  {
   "cell_type": "code",
   "execution_count": 1,
   "metadata": {},
   "outputs": [],
   "source": [
    "import spacy\n",
    "import torch\n",
    "from torchtext import data    \n",
    "from libs import sql_tokenizer\n",
    "import libs\n",
    "import numpy as np\n",
    "import pandas as pd"
   ]
  },
  {
   "cell_type": "code",
   "execution_count": null,
   "metadata": {},
   "outputs": [],
   "source": [
    "#Reproducing same results\n",
    "SEED = 2019\n",
    "\n",
    "#Torch\n",
    "torch.manual_seed(SEED)\n",
    "\n",
    "#Cuda algorithms\n",
    "torch.backends.cudnn.deterministic = True  "
   ]
  },
  {
   "cell_type": "code",
   "execution_count": null,
   "metadata": {},
   "outputs": [],
   "source": [
    "TEXT = data.Field(tokenize='spacy',batch_first=True,include_lengths=True)\n",
    "LABEL = data.LabelField(dtype = torch.float,batch_first=True)"
   ]
  },
  {
   "cell_type": "code",
   "execution_count": null,
   "metadata": {},
   "outputs": [],
   "source": [
    "fields = [(\"id\", None), ('text',TEXT),('label', LABEL)]"
   ]
  },
  {
   "cell_type": "code",
   "execution_count": null,
   "metadata": {},
   "outputs": [],
   "source": [
    "training_data=data.TabularDataset(path = 'csv_files/safe_xss_sql.csv',format = 'csv',fields = fields,skip_header = True)"
   ]
  },
  {
   "cell_type": "code",
   "execution_count": null,
   "metadata": {},
   "outputs": [],
   "source": [
    "\n",
    "#print preprocessed text\n",
    "#print(vars(training_data.examples[0]))\n",
    "for i,dt in enumerate(training_data):\n",
    "    if dt.label == \"label\":\n",
    "        print(\"ID:\",i)\n",
    "        print(dt.text)\n",
    "        print(dt.label)\n",
    "        #print(training_data.__dir__())\n",
    "        del training_data.examples[i]\n",
    "        print(\"-\"*50)\n",
    "    if(len(dt.text) <= 0):\n",
    "        training_data[i].text = \"<blank>\"\n",
    "        #print(i,training_data[i].text,training_data[i].label)"
   ]
  },
  {
   "cell_type": "code",
   "execution_count": null,
   "metadata": {},
   "outputs": [],
   "source": [
    "import random\n",
    "train_data, valid_data = training_data.split(split_ratio=0.7, random_state = random.seed(SEED))\n",
    "#initialize glove embeddings\n",
    "# uncomment to use pretrained glove and comment the other one\n",
    "TEXT.build_vocab(train_data,min_freq=3,vectors = \"fasttext.simple.300d\")  \n",
    "#TEXT.build_vocab(train_data,min_freq=3)\n",
    "LABEL.build_vocab(train_data)\n",
    "print(\"Size of TEXT vocabulary:\",len(TEXT.vocab))\n",
    "print(\"Size of LABEL vocabulary:\",len(LABEL.vocab))\n",
    "print(LABEL.vocab.stoi)\n",
    "#Commonly used words\n",
    "#print(TEXT.vocab.freqs.most_common(100))  \n",
    "#print(TEXT.vocab.stoi)   "
   ]
  },
  {
   "cell_type": "code",
   "execution_count": null,
   "metadata": {},
   "outputs": [],
   "source": []
  },
  {
   "cell_type": "code",
   "execution_count": 60,
   "metadata": {},
   "outputs": [],
   "source": [
    "import pickle\n",
    "def save_vocab(vocab, path):\n",
    "    \n",
    "    output = open(path, 'wb')\n",
    "    pickle.dump(vocab, output)\n",
    "    output.close()\n",
    "\n",
    "save_vocab(TEXT,\"cleaned-version/pickles/vocab.pt\")\n",
    "save_vocab(LABEL, \"cleaned-version/pickles/label.pt\")"
   ]
  },
  {
   "cell_type": "code",
   "execution_count": null,
   "metadata": {},
   "outputs": [],
   "source": [
    "with open(\"cleaned-version/pickles/vocab.pt\", 'rb') as pickle_file:\n",
    "    TEXT_ = pickle.load(pickle_file)"
   ]
  },
  {
   "cell_type": "code",
   "execution_count": null,
   "metadata": {},
   "outputs": [],
   "source": [
    "device = torch.device('cuda' if torch.cuda.is_available() else 'cpu')  \n",
    "\n",
    "#set batch size\n",
    "BATCH_SIZE = 64\n",
    "\n",
    "#Load an iterator\n",
    "train_iterator, valid_iterator = data.BucketIterator.splits(\n",
    "    (train_data, valid_data), \n",
    "    batch_size = BATCH_SIZE,\n",
    "    sort_key = lambda x: len(x.text),\n",
    "    sort_within_batch=True,\n",
    "    device = device)"
   ]
  },
  {
   "cell_type": "code",
   "execution_count": null,
   "metadata": {},
   "outputs": [],
   "source": [
    "import torch.nn as nn\n",
    "\n",
    "class classifier(nn.Module):\n",
    "    \n",
    "    #define all the layers used in model\n",
    "    def __init__(self, vocab_size, embedding_dim, hidden_dim, output_dim, n_layers, \n",
    "                 bidirectional, dropout):\n",
    "        \n",
    "        #Constructor\n",
    "        super().__init__()          \n",
    "        \n",
    "        #embedding layer\n",
    "        self.embedding = nn.Embedding(vocab_size, embedding_dim)\n",
    "        \n",
    "        #lstm layer\n",
    "        self.lstm = nn.LSTM(embedding_dim, \n",
    "                           hidden_dim, \n",
    "                           num_layers=n_layers, \n",
    "                           bidirectional=bidirectional, \n",
    "                           dropout=dropout,\n",
    "                           batch_first=True)\n",
    "        \n",
    "        #dense layer\n",
    "        self.fc = nn.Linear(hidden_dim * 2, output_dim)\n",
    "        \n",
    "        #activation function\n",
    "#        self.act = nn.Sigmoid()\n",
    "        \n",
    "    def forward(self, text, text_lengths):\n",
    "        \n",
    "        #text = [batch size,sent_length]\n",
    "        embedded = self.embedding(text)\n",
    "        #embedded = [batch size, sent_len, emb dim]\n",
    "      \n",
    "#packed sequence\n",
    "        packed_embedded = nn.utils.rnn.pack_padded_sequence(embedded, text_lengths,batch_first=True)\n",
    "        \n",
    "        packed_output, (hidden, cell) = self.lstm(packed_embedded)\n",
    "        #hidden = [batch size, num layers * num directions,hid dim]\n",
    "        #cell = [batch size, num layers * num directions,hid dim]\n",
    "        \n",
    "        #concat the final forward and backward hidden state\n",
    "        hidden = torch.cat((hidden[-2,:,:], hidden[-1,:,:]), dim = 1)\n",
    "                \n",
    "        #hidden = [batch size, hid dim * num directions]\n",
    "        dense_outputs=self.fc(hidden)\n",
    "\n",
    "        #Final activation function\n",
    "        outputs= dense_outputs#self.act(dense_outputs)\n",
    "        \n",
    "        return outputs"
   ]
  },
  {
   "cell_type": "code",
   "execution_count": null,
   "metadata": {},
   "outputs": [],
   "source": [
    "#LABEL.vocab.stoi['safe'] = 0\n",
    "#LABEL.vocab.stoi['xss'] = 1 \n",
    "#LABEL.vocab.stoi['sql'] = 2 \n",
    "#LABEL.vocab.stoi.pop(\"label\")\n"
   ]
  },
  {
   "cell_type": "code",
   "execution_count": null,
   "metadata": {},
   "outputs": [],
   "source": []
  },
  {
   "cell_type": "code",
   "execution_count": 19,
   "metadata": {},
   "outputs": [],
   "source": [
    "size_of_vocab = len(TEXT.vocab)\n",
    "embedding_dim = 300 # 100\n",
    "num_hidden_nodes = 32\n",
    "num_output_nodes = len(LABEL.vocab.stoi)\n",
    "num_layers = 2\n",
    "bidirection = True\n",
    "dropout = 0.2\n",
    "\n",
    "#instantiate the model\n",
    "model = classifier(size_of_vocab, embedding_dim, num_hidden_nodes,num_output_nodes, num_layers, \n",
    "                   bidirectional = True, dropout = dropout)"
   ]
  },
  {
   "cell_type": "code",
   "execution_count": 20,
   "metadata": {},
   "outputs": [
    {
     "name": "stdout",
     "output_type": "stream",
     "text": [
      "classifier(\n",
      "  (embedding): Embedding(9656, 300)\n",
      "  (lstm): LSTM(300, 32, num_layers=2, batch_first=True, dropout=0.2, bidirectional=True)\n",
      "  (fc): Linear(in_features=64, out_features=3, bias=True)\n",
      ")\n",
      "The model has 3,007,587 trainable parameters\n",
      "torch.Size([9656, 300])\n"
     ]
    }
   ],
   "source": [
    "print(model)\n",
    "\n",
    "#No. of trianable parameters\n",
    "def count_parameters(model):\n",
    "    return sum(p.numel() for p in model.parameters() if p.requires_grad)\n",
    "    \n",
    "print(f'The model has {count_parameters(model):,} trainable parameters')\n",
    "\n",
    "#Initialize the pretrained embedding\n",
    "pretrained_embeddings = TEXT.vocab.vectors\n",
    "model.embedding.weight.data.copy_(pretrained_embeddings)\n",
    "\n",
    "print(pretrained_embeddings.shape)"
   ]
  },
  {
   "cell_type": "code",
   "execution_count": 21,
   "metadata": {},
   "outputs": [],
   "source": [
    "import torch.optim as optim\n",
    "\n",
    "#define optimizer and loss\n",
    "optimizer = optim.Adam(model.parameters())\n",
    "criterion = nn.CrossEntropyLoss()\n",
    "\n",
    "#define metric\n",
    "def binary_accuracy(preds, y):\n",
    "    #round predictions to the closest integer\n",
    "    rounded_pred = torch.round(preds)\n",
    "    _,pred_label = torch.max(rounded_pred, dim = 1)\n",
    "    correct = (pred_label == y).float()\n",
    "    acc = correct.sum() / len(correct)\n",
    "    return acc\n",
    "    \n",
    "#push to cuda if available\n",
    "model = model.to(device)\n",
    "criterion = criterion.to(device)"
   ]
  },
  {
   "cell_type": "code",
   "execution_count": 22,
   "metadata": {},
   "outputs": [],
   "source": [
    "def train(model, iterator, optimizer, criterion):\n",
    "    \n",
    "    #initialize every epoch \n",
    "    epoch_loss = 0\n",
    "    epoch_acc = 0\n",
    "    \n",
    "    #set the model in training phase\n",
    "    model.train()  \n",
    "    \n",
    "    for batch in iterator:\n",
    "        \n",
    "        #resets the gradients after every batch\n",
    "        optimizer.zero_grad()   \n",
    "        \n",
    "        #retrieve text and no. of words\n",
    "        text, text_lengths = batch.text   \n",
    "        \n",
    "        #convert to 1D tensor\n",
    "        predictions = model(text, text_lengths).squeeze()  \n",
    " \n",
    "        #compute the loss\n",
    "        y_tensor = torch.tensor(batch.label, dtype=torch.long, device=device)\n",
    "        loss = criterion(predictions, y_tensor)        \n",
    "        \n",
    "        #compute the binary accuracy\n",
    "        acc = binary_accuracy(predictions, batch.label)   \n",
    "        \n",
    "        #backpropage the loss and compute the gradients\n",
    "        loss.backward()       \n",
    "        \n",
    "        #update the weights\n",
    "        optimizer.step()      \n",
    "        \n",
    "        #loss and accuracy\n",
    "        epoch_loss += loss.item()  \n",
    "        epoch_acc += acc.item()    \n",
    "        \n",
    "    return epoch_loss / len(iterator), epoch_acc / len(iterator)"
   ]
  },
  {
   "cell_type": "code",
   "execution_count": 23,
   "metadata": {},
   "outputs": [],
   "source": [
    "def evaluate(model, iterator, criterion):\n",
    "    \n",
    "    #initialize every epoch\n",
    "    epoch_loss = 0\n",
    "    epoch_acc = 0\n",
    "\n",
    "    #deactivating dropout layers\n",
    "    model.eval()\n",
    "    \n",
    "    #deactivates autograd\n",
    "    with torch.no_grad():\n",
    "    \n",
    "        for batch in iterator:\n",
    "        \n",
    "            #retrieve text and no. of words\n",
    "            text, text_lengths = batch.text\n",
    "            \n",
    "            #convert to 1d tensor\n",
    "            predictions = model(text, text_lengths).squeeze()\n",
    "            \n",
    "            #compute loss and accuracy\n",
    "            y_tensor = torch.tensor(batch.label, dtype=torch.long, device=device)\n",
    "            loss = criterion(predictions, y_tensor)      \n",
    "            acc = binary_accuracy(predictions, batch.label)\n",
    "            \n",
    "            #keep track of loss and accuracy\n",
    "            epoch_loss += loss.item()\n",
    "            epoch_acc += acc.item()\n",
    "        \n",
    "    return epoch_loss / len(iterator), epoch_acc / len(iterator)"
   ]
  },
  {
   "cell_type": "code",
   "execution_count": 24,
   "metadata": {},
   "outputs": [
    {
     "name": "stderr",
     "output_type": "stream",
     "text": [
      "c:\\users\\dell\\appdata\\local\\programs\\python\\python36\\lib\\site-packages\\ipykernel_launcher.py:22: UserWarning: To copy construct from a tensor, it is recommended to use sourceTensor.clone().detach() or sourceTensor.clone().detach().requires_grad_(True), rather than torch.tensor(sourceTensor).\n"
     ]
    },
    {
     "name": "stdout",
     "output_type": "stream",
     "text": [
      "\tTrain Loss: 0.797 | Train Acc: 56.80%\n",
      "\t Val. Loss: 0.286 |  Val. Acc: 93.98%\n",
      "\tTrain Loss: 0.119 | Train Acc: 96.82%\n",
      "\t Val. Loss: 0.055 |  Val. Acc: 97.92%\n",
      "\tTrain Loss: 0.041 | Train Acc: 98.29%\n",
      "\t Val. Loss: 0.034 |  Val. Acc: 98.55%\n",
      "\tTrain Loss: 0.031 | Train Acc: 98.99%\n",
      "\t Val. Loss: 0.035 |  Val. Acc: 98.96%\n",
      "\tTrain Loss: 0.029 | Train Acc: 99.24%\n",
      "\t Val. Loss: 0.025 |  Val. Acc: 99.54%\n",
      "\tTrain Loss: 0.024 | Train Acc: 99.47%\n",
      "\t Val. Loss: 0.021 |  Val. Acc: 99.48%\n",
      "\tTrain Loss: 0.019 | Train Acc: 99.60%\n",
      "\t Val. Loss: 0.015 |  Val. Acc: 99.77%\n"
     ]
    }
   ],
   "source": [
    "N_EPOCHS = 7\n",
    "best_valid_loss = float('inf')\n",
    "\n",
    "for epoch in range(N_EPOCHS):\n",
    "     \n",
    "    #train the model\n",
    "    train_loss, train_acc = train(model, train_iterator, optimizer, criterion)\n",
    "    \n",
    "    #evaluate the model\n",
    "    valid_loss, valid_acc = evaluate(model, valid_iterator, criterion)\n",
    "    \n",
    "    #save the best model\n",
    "    if valid_loss < best_valid_loss:\n",
    "        best_valid_loss = valid_loss\n",
    "        torch.save(model.state_dict(), 'saved_weights.pt')\n",
    "    \n",
    "    print(f'\\tTrain Loss: {train_loss:.3f} | Train Acc: {train_acc*100:.2f}%')\n",
    "    print(f'\\t Val. Loss: {valid_loss:.3f} |  Val. Acc: {valid_acc*100:.2f}%')"
   ]
  },
  {
   "cell_type": "code",
   "execution_count": 39,
   "metadata": {},
   "outputs": [],
   "source": [
    "import time\n",
    "import os\n",
    "# lets save the model\n",
    "def save_model():\n",
    "    models_path = \"saved_weights\"\n",
    "    md_val_acc = \"%.2f\"%(valid_acc*100)\n",
    "    model_name = \"Acc \"+md_val_acc+\".pt\"\n",
    "    full_path = os.path.join(models_path, model_name)\n",
    "    torch.save(model.state_dict(),full_path)\n",
    "    print(\"SAVED\\n\",model_name)"
   ]
  },
  {
   "cell_type": "code",
   "execution_count": 40,
   "metadata": {},
   "outputs": [
    {
     "name": "stdout",
     "output_type": "stream",
     "text": [
      "SAVED\n",
      " Acc 99.77.pt\n"
     ]
    }
   ],
   "source": [
    "save_model()"
   ]
  },
  {
   "cell_type": "code",
   "execution_count": null,
   "metadata": {},
   "outputs": [],
   "source": []
  },
  {
   "cell_type": "code",
   "execution_count": 41,
   "metadata": {},
   "outputs": [],
   "source": [
    "import spacy\n",
    "\n",
    "nlp = spacy.load('en')\n",
    "pred_2_lbl = {num:key for key,num in LABEL.vocab.stoi.items()}\n",
    "def predict(model,sentence):\n",
    "    \n",
    "    tokenized = [tok.text for tok in nlp.tokenizer(sql_tokenizer(sentence))] # tokenize the sentence\n",
    "    print(tokenized)\n",
    "    #indexed = [TEXT.vocab.stoi[t] for t in tokenized] # convert to integer sequence\n",
    "    indexed = []\n",
    "    for t in tokenized:\n",
    "        tt = TEXT.vocab.stoi[t]\n",
    "        if tt != 0:\n",
    "            indexed.append(tt)\n",
    "        \n",
    "    print(indexed)\n",
    "    length = [len(indexed)] #compute no. of words\n",
    "    tensor = torch.LongTensor(indexed).to(device) # convert to tensor\n",
    "    tensor = tensor.unsqueeze(1).T\n",
    "    length_tensor = torch.LongTensor(length)\n",
    "    prediction = model(tensor,length_tensor)\n",
    "    pred_lbl = np.argmax(prediction.detach().numpy())\n",
    "    print('\\n')\n",
    "    print('predicted threat type:',pred_2_lbl[pred_lbl])\n",
    "    return prediction"
   ]
  },
  {
   "cell_type": "code",
   "execution_count": 42,
   "metadata": {},
   "outputs": [
    {
     "name": "stdout",
     "output_type": "stream",
     "text": [
      "[' ', 'SELECT', 'STAR', 'FROM', 'items', '\\n', 'where', 'OWNER', 'EQ', 'SQUT', 'wiley', 'SQUT', 'AND', 'itemname', 'EQ', 'SQUT', 'NAME', 'SQUT', 'OR', 'SQUT', 'A', 'SQUT', 'EQ', 'SQUT', 'A', 'SQUT', 'SMCLN']\n",
      "[148, 105, 44, 1830, 42, 24, 6018, 24, 5, 42, 24, 503, 24, 49, 24, 4, 24, 42, 24, 4, 24, 19]\n",
      "\n",
      "\n",
      "predicted threat type: injection\n"
     ]
    }
   ],
   "source": [
    "pred = predict(model,\"\"\" SELECT * FROM items\n",
    "WHERE owner = 'wiley'\n",
    "AND itemname = 'name' OR 'a'='a'; \"\"\")"
   ]
  },
  {
   "cell_type": "code",
   "execution_count": 43,
   "metadata": {},
   "outputs": [],
   "source": [
    "#np.argmax(pred.detach().numpy())"
   ]
  },
  {
   "cell_type": "code",
   "execution_count": null,
   "metadata": {},
   "outputs": [],
   "source": []
  },
  {
   "cell_type": "code",
   "execution_count": 44,
   "metadata": {},
   "outputs": [],
   "source": [
    "#LABEL.vocab.stoi.items()"
   ]
  },
  {
   "cell_type": "markdown",
   "metadata": {},
   "source": [
    "# Safe Text"
   ]
  },
  {
   "cell_type": "code",
   "execution_count": 45,
   "metadata": {},
   "outputs": [
    {
     "name": "stdout",
     "output_type": "stream",
     "text": [
      "['i', 'm', 'good']\n",
      "[11, 1790, 67]\n",
      "\n",
      "\n",
      "predicted threat type: Safe\n"
     ]
    },
    {
     "data": {
      "text/plain": [
       "tensor([[ 2.5017, -1.1686, -1.4168]], grad_fn=<AddmmBackward>)"
      ]
     },
     "execution_count": 45,
     "metadata": {},
     "output_type": "execute_result"
    }
   ],
   "source": [
    "i_good = predict(model,'im good')\n",
    "i_good"
   ]
  },
  {
   "cell_type": "code",
   "execution_count": 46,
   "metadata": {},
   "outputs": [
    {
     "data": {
      "text/plain": [
       "array([ 2.5016747, -1.1686461, -1.4167845], dtype=float32)"
      ]
     },
     "execution_count": 46,
     "metadata": {},
     "output_type": "execute_result"
    }
   ],
   "source": [
    "i_good.detach().numpy()[0]"
   ]
  },
  {
   "cell_type": "code",
   "execution_count": 47,
   "metadata": {},
   "outputs": [
    {
     "data": {
      "text/plain": [
       "{0: 'Safe', 1: 'injection', 2: 'xss'}"
      ]
     },
     "execution_count": 47,
     "metadata": {},
     "output_type": "execute_result"
    }
   ],
   "source": [
    "pred_2_lbl"
   ]
  },
  {
   "cell_type": "markdown",
   "metadata": {},
   "source": [
    "# Sql detection"
   ]
  },
  {
   "cell_type": "code",
   "execution_count": 48,
   "metadata": {},
   "outputs": [
    {
     "name": "stdout",
     "output_type": "stream",
     "text": [
      "['group_concat', 'LPRN', 'namapemohon', 'CMMA', '0x3a', 'CMMA', 'email', 'RPRN', 'CMMA', 'INT', 'CMMA', 'INT', 'CMMA', 'INT', 'CMMA', 'INT', 'FROM', 'pendaftaran_user']\n",
      "[26, 20, 20, 7682, 17, 20, 13, 20, 13, 20, 13, 20, 13, 44]\n",
      "\n",
      "\n",
      "predicted threat type: injection\n"
     ]
    },
    {
     "data": {
      "text/plain": [
       "tensor([[-2.9238,  5.0265, -2.0399]], grad_fn=<AddmmBackward>)"
      ]
     },
     "execution_count": 48,
     "metadata": {},
     "output_type": "execute_result"
    }
   ],
   "source": [
    "predict(model,'group_concat(namapemohon,0x3a,email),3,4,5,6 from pendaftaran_user ')"
   ]
  },
  {
   "cell_type": "code",
   "execution_count": 49,
   "metadata": {},
   "outputs": [
    {
     "name": "stdout",
     "output_type": "stream",
     "text": [
      "['LT', 'script', 'TYPE', 'EQ', 'DQUT', 'TEXT', 'SLSH', 'javascript', 'DQUT', 'GT', 'var', 'adr', 'EQ', 'SQUT', 'DOT', 'DOT', 'SLSH', 'evil', 'DOT', 'php', 'QSTN', 'cakemonster', 'EQ', 'SQUT', 'PLUS', 'ESCAPE', 'LPRN', 'DOCUMENT', 'DOT', 'cookie', 'RPRN', 'SMCLN', ' ', 'LT', 'SLSH', 'script', 'GT']\n",
      "[62, 88, 505, 42, 47, 819, 35, 268, 47, 65, 2085, 42, 24, 2, 2, 35, 1211, 2, 1009, 42, 24, 174, 1632, 26, 859, 2, 1210, 17, 19, 62, 35, 88, 65]\n",
      "\n",
      "\n",
      "predicted threat type: xss\n"
     ]
    },
    {
     "data": {
      "text/plain": [
       "tensor([[-2.6121, -1.3265,  4.5491]], grad_fn=<AddmmBackward>)"
      ]
     },
     "execution_count": 49,
     "metadata": {},
     "output_type": "execute_result"
    }
   ],
   "source": [
    "predict(model, \"\"\"\n",
    "<SCRIPT type=\"text/javascript\">\n",
    "var adr = '../evil.php?cakemonster=' + escape(document.cookie);\n",
    "</SCRIPT>\n",
    "\"\"\")"
   ]
  },
  {
   "cell_type": "code",
   "execution_count": 50,
   "metadata": {},
   "outputs": [
    {
     "name": "stdout",
     "output_type": "stream",
     "text": [
      "['this', 'IS', 'safe', 'TEXT', 'lmao', 'hema', 'dufi']\n",
      "[14, 9, 1889, 819, 8329]\n",
      "\n",
      "\n",
      "predicted threat type: Safe\n"
     ]
    },
    {
     "data": {
      "text/plain": [
       "tensor([[ 4.1226, -2.3482, -2.1836]], grad_fn=<AddmmBackward>)"
      ]
     },
     "execution_count": 50,
     "metadata": {},
     "output_type": "execute_result"
    }
   ],
   "source": [
    "predict(model,\"this is safe text lmao hema dufi\")"
   ]
  },
  {
   "cell_type": "code",
   "execution_count": 51,
   "metadata": {},
   "outputs": [
    {
     "name": "stdout",
     "output_type": "stream",
     "text": [
      "['hema', 'shko', 'here', 'today']\n",
      "[168, 666]\n",
      "\n",
      "\n",
      "predicted threat type: Safe\n"
     ]
    },
    {
     "data": {
      "text/plain": [
       "tensor([[ 2.4138, -1.4912, -1.1647]], grad_fn=<AddmmBackward>)"
      ]
     },
     "execution_count": 51,
     "metadata": {},
     "output_type": "execute_result"
    }
   ],
   "source": [
    "predict(model,\"hema shko here today\")"
   ]
  },
  {
   "cell_type": "code",
   "execution_count": 52,
   "metadata": {},
   "outputs": [],
   "source": [
    "# fixing this problem using pretrained vocabs like globe.6.b"
   ]
  },
  {
   "cell_type": "code",
   "execution_count": 58,
   "metadata": {},
   "outputs": [
    {
     "name": "stdout",
     "output_type": "stream",
     "text": [
      "['hello', 'did', 'you', 'WRITE', 'hema', 'SQUT', 's', 'script']\n",
      "[139, 33, 845, 24, 16, 88]\n",
      "\n",
      "\n",
      "predicted threat type: Safe\n"
     ]
    },
    {
     "data": {
      "text/plain": [
       "tensor([[ 2.2955, -3.4369,  0.7129]], grad_fn=<AddmmBackward>)"
      ]
     },
     "execution_count": 58,
     "metadata": {},
     "output_type": "execute_result"
    }
   ],
   "source": [
    "predict(model, \"hello did you write hema's script\")"
   ]
  },
  {
   "cell_type": "code",
   "execution_count": null,
   "metadata": {},
   "outputs": [],
   "source": []
  },
  {
   "cell_type": "code",
   "execution_count": null,
   "metadata": {},
   "outputs": [],
   "source": []
  }
 ],
 "metadata": {
  "kernelspec": {
   "display_name": "Python 3",
   "language": "python",
   "name": "python3"
  },
  "language_info": {
   "codemirror_mode": {
    "name": "ipython",
    "version": 3
   },
   "file_extension": ".py",
   "mimetype": "text/x-python",
   "name": "python",
   "nbconvert_exporter": "python",
   "pygments_lexer": "ipython3",
   "version": "3.6.7"
  }
 },
 "nbformat": 4,
 "nbformat_minor": 4
}

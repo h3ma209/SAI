{
 "cells": [
  {
   "cell_type": "code",
   "execution_count": 1,
   "metadata": {},
   "outputs": [],
   "source": [
    "import spacy\n",
    "import torch\n",
    "from torchtext import data    \n",
    "from libs import sql_tokenizer\n",
    "import libs\n",
    "import numpy as np\n",
    "import pandas as pd"
   ]
  },
  {
   "cell_type": "code",
   "execution_count": 2,
   "metadata": {},
   "outputs": [],
   "source": [
    "#Reproducing same results\n",
    "SEED = 2019\n",
    "\n",
    "#Torch\n",
    "torch.manual_seed(SEED)\n",
    "\n",
    "#Cuda algorithms\n",
    "torch.backends.cudnn.deterministic = True  "
   ]
  },
  {
   "cell_type": "code",
   "execution_count": 3,
   "metadata": {},
   "outputs": [],
   "source": [
    "TEXT = data.Field(tokenize='spacy',batch_first=True,include_lengths=True)\n",
    "LABEL = data.LabelField(dtype = torch.float,batch_first=True)"
   ]
  },
  {
   "cell_type": "code",
   "execution_count": 4,
   "metadata": {},
   "outputs": [],
   "source": [
    "fields = [(None, None), ('text',TEXT),('label', LABEL)]"
   ]
  },
  {
   "cell_type": "code",
   "execution_count": 5,
   "metadata": {},
   "outputs": [
    {
     "name": "stdout",
     "output_type": "stream",
     "text": [
      "{'text': ['LT', 'script', 'GT', 'alert', 'LPRN', 'INT', 'RPRN', 'SMCLN', 'LT', 'SLSH', 'script', 'GT'], 'label': 'xss'}\n",
      "19 <blank> xss\n",
      "20 <blank> xss\n",
      "22 <blank> xss\n",
      "24 <blank> xss\n",
      "26 <blank> xss\n",
      "28 <blank> xss\n",
      "30 <blank> xss\n",
      "32 <blank> xss\n",
      "34 <blank> xss\n",
      "36 <blank> xss\n",
      "38 <blank> xss\n",
      "40 <blank> xss\n",
      "42 <blank> xss\n",
      "44 <blank> xss\n",
      "46 <blank> xss\n",
      "48 <blank> xss\n",
      "50 <blank> xss\n",
      "52 <blank> xss\n",
      "55 <blank> xss\n",
      "57 <blank> xss\n",
      "61 <blank> xss\n",
      "63 <blank> xss\n",
      "65 <blank> xss\n",
      "67 <blank> xss\n",
      "69 <blank> xss\n",
      "71 <blank> xss\n",
      "73 <blank> xss\n",
      "75 <blank> xss\n",
      "77 <blank> xss\n",
      "79 <blank> xss\n",
      "81 <blank> xss\n",
      "83 <blank> xss\n",
      "85 <blank> xss\n",
      "87 <blank> xss\n",
      "89 <blank> xss\n",
      "91 <blank> xss\n",
      "93 <blank> xss\n",
      "95 <blank> xss\n",
      "97 <blank> xss\n",
      "99 <blank> xss\n",
      "101 <blank> xss\n",
      "103 <blank> xss\n",
      "105 <blank> xss\n",
      "107 <blank> xss\n",
      "109 <blank> xss\n",
      "111 <blank> xss\n",
      "113 <blank> xss\n",
      "115 <blank> xss\n",
      "117 <blank> xss\n",
      "119 <blank> xss\n",
      "121 <blank> xss\n",
      "123 <blank> xss\n",
      "125 <blank> xss\n",
      "127 <blank> xss\n",
      "129 <blank> xss\n",
      "131 <blank> xss\n",
      "133 <blank> xss\n",
      "135 <blank> xss\n",
      "137 <blank> xss\n",
      "140 <blank> xss\n",
      "142 <blank> xss\n",
      "144 <blank> xss\n",
      "146 <blank> xss\n",
      "148 <blank> xss\n",
      "150 <blank> xss\n",
      "152 <blank> xss\n",
      "154 <blank> xss\n",
      "156 <blank> xss\n",
      "158 <blank> xss\n",
      "161 <blank> xss\n",
      "164 <blank> xss\n",
      "166 <blank> xss\n",
      "168 <blank> xss\n",
      "170 <blank> xss\n",
      "173 <blank> xss\n",
      "175 <blank> xss\n",
      "177 <blank> xss\n",
      "179 <blank> xss\n",
      "181 <blank> xss\n",
      "183 <blank> xss\n",
      "186 <blank> xss\n",
      "188 <blank> xss\n",
      "190 <blank> xss\n",
      "192 <blank> xss\n",
      "195 <blank> xss\n",
      "197 <blank> xss\n",
      "199 <blank> xss\n",
      "201 <blank> xss\n",
      "203 <blank> xss\n",
      "205 <blank> xss\n",
      "207 <blank> xss\n",
      "209 <blank> xss\n",
      "563 <blank> sql\n",
      "639 <blank> sql\n"
     ]
    }
   ],
   "source": [
    "training_data=data.TabularDataset(path = 'csv_files/xss.csv',format = 'csv',fields = fields,skip_header = True)\n",
    "\n",
    "#print preprocessed text\n",
    "print(vars(training_data.examples[0]))\n",
    "for i,dt in enumerate(training_data):\n",
    "    if(len(dt.text) <= 0):\n",
    "        training_data[i].text = \"<blank>\"\n",
    "        print(i,training_data[i].text,training_data[i].label)"
   ]
  },
  {
   "cell_type": "code",
   "execution_count": 6,
   "metadata": {},
   "outputs": [
    {
     "name": "stdout",
     "output_type": "stream",
     "text": [
      "Size of TEXT vocabulary: 235\n",
      "Size of LABEL vocabulary: 2\n",
      "defaultdict(<bound method Vocab._default_unk_index of <torchtext.vocab.Vocab object at 0x0000016D4DA53F28>>, {'<unk>': 0, '<pad>': 1, 'INT': 2, 'RPRN': 3, 'CMMA': 4, 'SQUT': 5, 'LPRN': 6, 'SMCLN': 7, 'NULL': 8, 'BITAND': 9, 'SLSH': 10, 'PRCNT': 11, 'EQ': 12, 'DQUT': 13, 'MINUS': 14, 'LT': 15, 'GT': 16, 'HASH': 17, 'CLN': 18, 'BSLSH': 19, 'DOT': 20, 'script': 21, 'alert': 22, 'STAR': 23, 'gt': 24, 'lt': 25, 'SELECT': 26, 'xss': 27, 'benchmark': 28, 'md5': 29, 'AND': 30, 'PLUS': 31, 'src': 32, 'FROM': 33, 'i': 34, '20delay': 35, '20waitfor': 36, 'IF': 37, 'OR': 38, 'b': 39, 'A': 40, 'l': 41, 'n': 42, '<': 43, '>': 44, 'a': 45, 'k': 46, 'DISTINCT': 47, 'javascript': 48, 'LIMIT': 49, 'http': 50, 'img': 51, 'WHERE': 52, 'ATR': 53, 'delay': 54, 'waitfor': 55, 'get_host_address': 56, 'utl_inaddr': 57, 'STYLE': 58, 'sys': 59, 'EXCLM': 60, 'AS': 61, 'org': 62, 'rownum': 63, 'ckers': 64, 'fromcharcode': 65, 'ha': 66, 'BITOR': 67, 'iframe': 68, 'string': 69, 'x': 70, 'svg': 71, 'PASSWORD': 72, '”': 73, 'COUNT': 74, 'LCBR': 75, 'TEXT': 76, 'href': 77, 'EXEC': 78, 'QSTN': 79, 'tab': 80, 'js': 81, 'onerror': 82, 'DATA': 83, 'DLLR': 84, 'DOCUMENT': 85, 'RCBR': 86, 'foo': 87, 'granted_role': 88, 'html': 89, 'onload': 90, 'DIV': 91, 'colon': 92, '’': 93, '20if': 94, 'TABLE_NAME': 95, '_': 96, 'url': 97, 'username': 98, 'REMOVE': 99, 'USER': 100, 'u0061': 101, 'com': 102, 'confirm': 103, 'cookie': 104, 'grantee': 105, 'CONTENT': 106, 'INPUT': 107, 'VERSION': 108, 'XML': 109, 'body': 110, 'br': 111, 's': 112, '‘': 113, 'RQUT': 114, 'TYPE': 115, 'UNION': 116, 'background': 117, 'equiv': 118, 'google': 119, 'image': 120, 'meta': 121, 'prompt': 122, 'q': 123, 'x3c': 124, 'NAME': 125, 'OBJECT': 126, 'dba_role_privs': 127, 'lpar': 128, 'master': 129, 'onmouseover': 130, 'quot': 131, 'rpar': 132, 'www': 133, 'CHAR': 134, 'COLUMN_NAME': 135, 'NOT': 136, 'RSQBR': 137, 'T': 138, 'all_tables': 139, 'embed': 140, 'form': 141, 'loginuser': 142, 'newline': 143, 'var': 144, '20or': 145, 'BASE64': 146, 'C': 147, 'DECLARE': 148, 'LIKE': 149, 'LSQBR': 150, 'REFRESH': 151, 'current_setting': 152, 'myfile': 153, 'scr': 154, 'x003c': 155, 'x03c': 156, 'xp_cmdshell': 157, '2a': 158, 'EXPRESSION': 159, 'ID': 160, 'LOCATION': 161, 'TABLE': 162, 'TO': 163, 'ad4': 164, 'sleep': 165, 'u0074': 166, 'x000003c': 167, 'x28': 168, 'x29': 169, 'xmlns': 170, '7c': 171, 'LINK': 172, 'MATCH': 173, 'TLDE': 174, 'VARCHAR': 175, 'adw': 176, 'all_tab_columns': 177, 'all_users': 178, 'css': 179, 'echo': 180, 'font': 181, 'hellox': 182, 'ipt': 183, 'pt': 184, 'syscat': 185, 'this': 186, 'u0072': 187, 'users': 188, 'worldss': 189, 'x0003c': 190, 'x3a': 191, '3c': 192, 'ALL': 193, 'ALWAYS': 194, 'FUNCTION': 195, 'IMPORT': 196, 'IN': 197, 'INSERT': 198, 'IS': 199, 'NAMESPACE': 200, 'ON': 201, 'SET': 202, 'SOURCE': 203, 'SUBSTRING': 204, 'VALUE': 205, 'WRITE': 206, 'allowscriptaccess': 207, 'ascript': 208, 'attackerip': 209, 'bin': 210, 'e': 211, 'ect': 212, 'j': 213, 'jav': 214, 'load_file': 215, 'login': 216, 'nvarchar': 217, 'opera': 218, 'print': 219, 'rel': 220, 'sel': 221, 'sqlvuln': 222, 'stylesheet': 223, 'sysibm': 224, 'title': 225, 'u': 226, 'u0065': 227, 'u006c': 228, 'userid': 229, 'v': 230, 'width': 231, 'x61': 232, 'x6c': 233, '™': 234})\n"
     ]
    }
   ],
   "source": [
    "import random\n",
    "train_data, valid_data = training_data.split(split_ratio=0.7, random_state = random.seed(SEED))\n",
    "#initialize glove embeddings\n",
    "TEXT.build_vocab(train_data,min_freq=3,vectors = \"glove.6B.100d\")  \n",
    "LABEL.build_vocab(train_data)\n",
    "print(\"Size of TEXT vocabulary:\",len(TEXT.vocab))\n",
    "print(\"Size of LABEL vocabulary:\",len(LABEL.vocab))\n",
    "\n",
    "#Commonly used words\n",
    "#print(TEXT.vocab.freqs.most_common(100))  \n",
    "print(TEXT.vocab.stoi)   "
   ]
  },
  {
   "cell_type": "code",
   "execution_count": 7,
   "metadata": {},
   "outputs": [],
   "source": [
    "device = torch.device('cuda' if torch.cuda.is_available() else 'cpu')  \n",
    "\n",
    "#set batch size\n",
    "BATCH_SIZE = 64\n",
    "\n",
    "#Load an iterator\n",
    "train_iterator, valid_iterator = data.BucketIterator.splits(\n",
    "    (train_data, valid_data), \n",
    "    batch_size = BATCH_SIZE,\n",
    "    sort_key = lambda x: len(x.text),\n",
    "    sort_within_batch=True,\n",
    "    device = device)"
   ]
  },
  {
   "cell_type": "code",
   "execution_count": 8,
   "metadata": {},
   "outputs": [],
   "source": [
    "import torch.nn as nn\n",
    "\n",
    "class classifier(nn.Module):\n",
    "    \n",
    "    #define all the layers used in model\n",
    "    def __init__(self, vocab_size, embedding_dim, hidden_dim, output_dim, n_layers, \n",
    "                 bidirectional, dropout):\n",
    "        \n",
    "        #Constructor\n",
    "        super().__init__()          \n",
    "        \n",
    "        #embedding layer\n",
    "        self.embedding = nn.Embedding(vocab_size, embedding_dim)\n",
    "        \n",
    "        #lstm layer\n",
    "        self.lstm = nn.LSTM(embedding_dim, \n",
    "                           hidden_dim, \n",
    "                           num_layers=n_layers, \n",
    "                           bidirectional=bidirectional, \n",
    "                           dropout=dropout,\n",
    "                           batch_first=True)\n",
    "        \n",
    "        #dense layer\n",
    "        self.fc = nn.Linear(hidden_dim * 2, output_dim)\n",
    "        \n",
    "        #activation function\n",
    "#        self.act = nn.Sigmoid()\n",
    "        \n",
    "    def forward(self, text, text_lengths):\n",
    "        \n",
    "        #text = [batch size,sent_length]\n",
    "        embedded = self.embedding(text)\n",
    "        #embedded = [batch size, sent_len, emb dim]\n",
    "      \n",
    "#packed sequence\n",
    "        packed_embedded = nn.utils.rnn.pack_padded_sequence(embedded, text_lengths,batch_first=True)\n",
    "        \n",
    "        packed_output, (hidden, cell) = self.lstm(packed_embedded)\n",
    "        #hidden = [batch size, num layers * num directions,hid dim]\n",
    "        #cell = [batch size, num layers * num directions,hid dim]\n",
    "        \n",
    "        #concat the final forward and backward hidden state\n",
    "        hidden = torch.cat((hidden[-2,:,:], hidden[-1,:,:]), dim = 1)\n",
    "                \n",
    "        #hidden = [batch size, hid dim * num directions]\n",
    "        dense_outputs=self.fc(hidden)\n",
    "\n",
    "        #Final activation function\n",
    "        outputs= dense_outputs#self.act(dense_outputs)\n",
    "        \n",
    "        return outputs"
   ]
  },
  {
   "cell_type": "code",
   "execution_count": 9,
   "metadata": {},
   "outputs": [
    {
     "data": {
      "text/plain": [
       "2"
      ]
     },
     "execution_count": 9,
     "metadata": {},
     "output_type": "execute_result"
    }
   ],
   "source": [
    "len(LABEL.vocab.stoi)"
   ]
  },
  {
   "cell_type": "code",
   "execution_count": 10,
   "metadata": {},
   "outputs": [],
   "source": [
    "size_of_vocab = len(TEXT.vocab)\n",
    "embedding_dim = 100\n",
    "num_hidden_nodes = 32\n",
    "num_output_nodes = 2\n",
    "num_layers = 2\n",
    "bidirection = True\n",
    "dropout = 0.2\n",
    "\n",
    "#instantiate the model\n",
    "model = classifier(size_of_vocab, embedding_dim, num_hidden_nodes,num_output_nodes, num_layers, \n",
    "                   bidirectional = True, dropout = dropout)"
   ]
  },
  {
   "cell_type": "code",
   "execution_count": 11,
   "metadata": {},
   "outputs": [
    {
     "name": "stdout",
     "output_type": "stream",
     "text": [
      "classifier(\n",
      "  (embedding): Embedding(235, 100)\n",
      "  (lstm): LSTM(100, 32, num_layers=2, batch_first=True, dropout=0.2, bidirectional=True)\n",
      "  (fc): Linear(in_features=64, out_features=2, bias=True)\n",
      ")\n",
      "The model has 83,022 trainable parameters\n",
      "torch.Size([235, 100])\n"
     ]
    }
   ],
   "source": [
    "print(model)\n",
    "\n",
    "#No. of trianable parameters\n",
    "def count_parameters(model):\n",
    "    return sum(p.numel() for p in model.parameters() if p.requires_grad)\n",
    "    \n",
    "print(f'The model has {count_parameters(model):,} trainable parameters')\n",
    "\n",
    "#Initialize the pretrained embedding\n",
    "pretrained_embeddings = TEXT.vocab.vectors\n",
    "model.embedding.weight.data.copy_(pretrained_embeddings)\n",
    "\n",
    "print(pretrained_embeddings.shape)"
   ]
  },
  {
   "cell_type": "code",
   "execution_count": 12,
   "metadata": {},
   "outputs": [],
   "source": [
    "import torch.optim as optim\n",
    "\n",
    "#define optimizer and loss\n",
    "optimizer = optim.Adam(model.parameters())\n",
    "criterion = nn.CrossEntropyLoss()\n",
    "\n",
    "#define metric\n",
    "def binary_accuracy(preds, y):\n",
    "    #round predictions to the closest integer\n",
    "    rounded_pred = torch.round(preds)\n",
    "    _,pred_label = torch.max(rounded_pred, dim = 1)\n",
    "    correct = (pred_label == y).float()\n",
    "    acc = correct.sum() / len(correct)\n",
    "    return acc\n",
    "    \n",
    "#push to cuda if available\n",
    "model = model.to(device)\n",
    "criterion = criterion.to(device)"
   ]
  },
  {
   "cell_type": "code",
   "execution_count": 13,
   "metadata": {},
   "outputs": [],
   "source": [
    "def train(model, iterator, optimizer, criterion):\n",
    "    \n",
    "    #initialize every epoch \n",
    "    epoch_loss = 0\n",
    "    epoch_acc = 0\n",
    "    \n",
    "    #set the model in training phase\n",
    "    model.train()  \n",
    "    \n",
    "    for batch in iterator:\n",
    "        \n",
    "        #resets the gradients after every batch\n",
    "        optimizer.zero_grad()   \n",
    "        \n",
    "        #retrieve text and no. of words\n",
    "        text, text_lengths = batch.text   \n",
    "        \n",
    "        #convert to 1D tensor\n",
    "        predictions = model(text, text_lengths).squeeze()  \n",
    "        \n",
    "        #compute the loss\n",
    "        y_tensor = torch.tensor(batch.label, dtype=torch.long, device=device)\n",
    "        loss = criterion(predictions, y_tensor)        \n",
    "        \n",
    "        #compute the binary accuracy\n",
    "        acc = binary_accuracy(predictions, batch.label)   \n",
    "        \n",
    "        #backpropage the loss and compute the gradients\n",
    "        loss.backward()       \n",
    "        \n",
    "        #update the weights\n",
    "        optimizer.step()      \n",
    "        \n",
    "        #loss and accuracy\n",
    "        epoch_loss += loss.item()  \n",
    "        epoch_acc += acc.item()    \n",
    "        \n",
    "    return epoch_loss / len(iterator), epoch_acc / len(iterator)"
   ]
  },
  {
   "cell_type": "code",
   "execution_count": 14,
   "metadata": {},
   "outputs": [],
   "source": [
    "def evaluate(model, iterator, criterion):\n",
    "    \n",
    "    #initialize every epoch\n",
    "    epoch_loss = 0\n",
    "    epoch_acc = 0\n",
    "\n",
    "    #deactivating dropout layers\n",
    "    model.eval()\n",
    "    \n",
    "    #deactivates autograd\n",
    "    with torch.no_grad():\n",
    "    \n",
    "        for batch in iterator:\n",
    "        \n",
    "            #retrieve text and no. of words\n",
    "            text, text_lengths = batch.text\n",
    "            \n",
    "            #convert to 1d tensor\n",
    "            predictions = model(text, text_lengths).squeeze()\n",
    "            \n",
    "            #compute loss and accuracy\n",
    "            y_tensor = torch.tensor(batch.label, dtype=torch.long, device=device)\n",
    "            loss = criterion(predictions, y_tensor)      \n",
    "            acc = binary_accuracy(predictions, batch.label)\n",
    "            \n",
    "            #keep track of loss and accuracy\n",
    "            epoch_loss += loss.item()\n",
    "            epoch_acc += acc.item()\n",
    "        \n",
    "    return epoch_loss / len(iterator), epoch_acc / len(iterator)"
   ]
  },
  {
   "cell_type": "code",
   "execution_count": 15,
   "metadata": {},
   "outputs": [
    {
     "name": "stderr",
     "output_type": "stream",
     "text": [
      "c:\\users\\dell\\appdata\\local\\programs\\python\\python36\\lib\\site-packages\\ipykernel_launcher.py:22: UserWarning: To copy construct from a tensor, it is recommended to use sourceTensor.clone().detach() or sourceTensor.clone().detach().requires_grad_(True), rather than torch.tensor(sourceTensor).\n"
     ]
    },
    {
     "name": "stdout",
     "output_type": "stream",
     "text": [
      "\tTrain Loss: 0.684 | Train Acc: 43.64%\n",
      "\t Val. Loss: 0.659 |  Val. Acc: 49.66%\n",
      "\tTrain Loss: 0.630 | Train Acc: 43.64%\n",
      "\t Val. Loss: 0.594 |  Val. Acc: 49.66%\n",
      "\tTrain Loss: 0.502 | Train Acc: 55.17%\n",
      "\t Val. Loss: 0.418 |  Val. Acc: 86.78%\n",
      "\tTrain Loss: 0.245 | Train Acc: 92.07%\n",
      "\t Val. Loss: 0.221 |  Val. Acc: 89.41%\n",
      "\tTrain Loss: 0.102 | Train Acc: 93.75%\n",
      "\t Val. Loss: 0.140 |  Val. Acc: 92.77%\n"
     ]
    }
   ],
   "source": [
    "N_EPOCHS = 5\n",
    "best_valid_loss = float('inf')\n",
    "\n",
    "for epoch in range(N_EPOCHS):\n",
    "     \n",
    "    #train the model\n",
    "    train_loss, train_acc = train(model, train_iterator, optimizer, criterion)\n",
    "    \n",
    "    #evaluate the model\n",
    "    valid_loss, valid_acc = evaluate(model, valid_iterator, criterion)\n",
    "    \n",
    "    #save the best model\n",
    "    if valid_loss < best_valid_loss:\n",
    "        best_valid_loss = valid_loss\n",
    "        torch.save(model.state_dict(), 'saved_weights.pt')\n",
    "    \n",
    "    print(f'\\tTrain Loss: {train_loss:.3f} | Train Acc: {train_acc*100:.2f}%')\n",
    "    print(f'\\t Val. Loss: {valid_loss:.3f} |  Val. Acc: {valid_acc*100:.2f}%')"
   ]
  },
  {
   "cell_type": "code",
   "execution_count": 56,
   "metadata": {},
   "outputs": [],
   "source": [
    "import spacy\n",
    "\n",
    "nlp = spacy.load('en')\n",
    "\n",
    "def predict(model,sentence):\n",
    "    pred_2_lbl = {1:'xss',0:'sql'}\n",
    "    tokenized = [tok.text for tok in nlp.tokenizer(sql_tokenizer(sentence))] # tokenize the sentence\n",
    "    print(tokenized)\n",
    "    indexed = [TEXT.vocab.stoi[t] for t in tokenized] # convert to integer sequence\n",
    "    print(indexed)\n",
    "    length = [len(indexed)] #compute no. of words\n",
    "    tensor = torch.LongTensor(indexed).to(device) # convert to tensor\n",
    "    tensor = tensor.unsqueeze(1).T\n",
    "    length_tensor = torch.LongTensor(length)\n",
    "    prediction = model(tensor,length_tensor)\n",
    "    pred_lbl = np.argmax(pred.detach().numpy())\n",
    "    print('\\n')\n",
    "    print('predicted label:',pred_2_lbl[pred_lbl])\n",
    "    return prediction"
   ]
  },
  {
   "cell_type": "code",
   "execution_count": 58,
   "metadata": {},
   "outputs": [
    {
     "name": "stdout",
     "output_type": "stream",
     "text": [
      "[' ', 'SELECT', 'STAR', 'FROM', 'items', '\\n', 'where', 'OWNER', 'EQ', 'SQUT', 'wiley', 'SQUT', 'AND', 'itemname', 'EQ', 'SQUT', 'NAME', 'SQUT', 'OR', 'SQUT', 'A', 'SQUT', 'EQ', 'SQUT', 'A', 'SQUT', 'SMCLN']\n",
      "[0, 26, 23, 33, 0, 0, 0, 0, 12, 5, 0, 5, 30, 0, 12, 5, 125, 5, 38, 5, 40, 5, 12, 5, 40, 5, 7]\n",
      "\n",
      "\n",
      "predicted label: sql\n"
     ]
    }
   ],
   "source": [
    "pred = predict(model,\"\"\" SELECT * FROM items\n",
    "WHERE owner = 'wiley'\n",
    "AND itemname = 'name' OR 'a'='a'; \"\"\")"
   ]
  },
  {
   "cell_type": "code",
   "execution_count": 59,
   "metadata": {},
   "outputs": [
    {
     "data": {
      "text/plain": [
       "0"
      ]
     },
     "execution_count": 59,
     "metadata": {},
     "output_type": "execute_result"
    }
   ],
   "source": [
    "np.argmax(pred.detach().numpy())"
   ]
  },
  {
   "cell_type": "code",
   "execution_count": 43,
   "metadata": {},
   "outputs": [
    {
     "data": {
      "text/plain": [
       "dict_items([('sql', 0), ('xss', 1)])"
      ]
     },
     "execution_count": 43,
     "metadata": {},
     "output_type": "execute_result"
    }
   ],
   "source": [
    "LABEL.vocab.stoi.items()"
   ]
  },
  {
   "cell_type": "markdown",
   "metadata": {},
   "source": [
    "# Safe Text"
   ]
  },
  {
   "cell_type": "code",
   "execution_count": 61,
   "metadata": {},
   "outputs": [
    {
     "name": "stdout",
     "output_type": "stream",
     "text": [
      "['i', 'm', 'good']\n",
      "[34, 0, 0]\n",
      "\n",
      "\n",
      "predicted label: sql\n"
     ]
    },
    {
     "data": {
      "text/plain": [
       "tensor([[ 0.2826, -0.2319]], grad_fn=<AddmmBackward>)"
      ]
     },
     "execution_count": 61,
     "metadata": {},
     "output_type": "execute_result"
    }
   ],
   "source": [
    "predict(model,'im good')"
   ]
  },
  {
   "cell_type": "code",
   "execution_count": null,
   "metadata": {},
   "outputs": [],
   "source": []
  }
 ],
 "metadata": {
  "kernelspec": {
   "display_name": "Python 3",
   "language": "python",
   "name": "python3"
  },
  "language_info": {
   "codemirror_mode": {
    "name": "ipython",
    "version": 3
   },
   "file_extension": ".py",
   "mimetype": "text/x-python",
   "name": "python",
   "nbconvert_exporter": "python",
   "pygments_lexer": "ipython3",
   "version": "3.6.7"
  }
 },
 "nbformat": 4,
 "nbformat_minor": 2
}

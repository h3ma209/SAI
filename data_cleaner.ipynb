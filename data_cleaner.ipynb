{
 "cells": [
  {
   "cell_type": "code",
   "execution_count": 2,
   "id": "cfddcb8d-1978-4f6c-b0d1-ee6cab790d5d",
   "metadata": {},
   "outputs": [],
   "source": [
    "import pandas\n",
    "from libs import open_file, replace_symbol, sql_tokenizer,keys\n",
    "import libs"
   ]
  },
  {
   "cell_type": "code",
   "execution_count": 3,
   "id": "c8049bb3-3719-4926-a97c-b93397c5548b",
   "metadata": {},
   "outputs": [],
   "source": [
    "xss = pandas.read_csv(\"csv_files/xss-v2.csv\")\n",
    "sql = pandas.read_csv(\"csv_files/sql-v2.csv\")\n",
    "safe = open_file(\"datasets/safe.txt\",\"safe\")"
   ]
  },
  {
   "cell_type": "code",
   "execution_count": 7,
   "id": "01dc07e1-6e46-446a-a097-00e1f6c27202",
   "metadata": {},
   "outputs": [],
   "source": [
    "xss[\"label\"] = \"xss\"\n",
    "sql[\"label\"] = \"sql\"\n",
    "safe[\"label\"] = \"safe\""
   ]
  },
  {
   "cell_type": "code",
   "execution_count": 8,
   "id": "ab8000d0-6a83-4a90-a82b-3ea5e70c628c",
   "metadata": {},
   "outputs": [],
   "source": [
    "xss=xss.rename(columns={'Sentence': 'text'})\n",
    "sql=sql.rename(columns={'Query': 'text'})\n",
    "safe=safe.rename(columns={\"text\":\"text\"})"
   ]
  },
  {
   "cell_type": "code",
   "execution_count": 9,
   "id": "7dd47c02-4eb7-49de-8fb1-81cfafc59ade",
   "metadata": {},
   "outputs": [],
   "source": [
    "xss['text'] = xss['text'].apply(sql_tokenizer)\n",
    "sql['text'] = sql['text'].apply(sql_tokenizer)\n",
    "safe['text'] = safe['text'].apply(sql_tokenizer)"
   ]
  },
  {
   "cell_type": "code",
   "execution_count": 9,
   "id": "3df9bc81-5e32-43ed-92b9-70d69942cda1",
   "metadata": {},
   "outputs": [
    {
     "data": {
      "text/html": [
       "<div>\n",
       "<style scoped>\n",
       "    .dataframe tbody tr th:only-of-type {\n",
       "        vertical-align: middle;\n",
       "    }\n",
       "\n",
       "    .dataframe tbody tr th {\n",
       "        vertical-align: top;\n",
       "    }\n",
       "\n",
       "    .dataframe thead th {\n",
       "        text-align: right;\n",
       "    }\n",
       "</style>\n",
       "<table border=\"1\" class=\"dataframe\">\n",
       "  <thead>\n",
       "    <tr style=\"text-align: right;\">\n",
       "      <th></th>\n",
       "      <th>Unnamed: 0</th>\n",
       "      <th>text</th>\n",
       "      <th>Label</th>\n",
       "      <th>label</th>\n",
       "    </tr>\n",
       "  </thead>\n",
       "  <tbody>\n",
       "    <tr>\n",
       "      <th>0</th>\n",
       "      <td>0</td>\n",
       "      <td>LT li GT LT A href EQ SLSH wiki SLSH FILE CLN ...</td>\n",
       "      <td>0</td>\n",
       "      <td>xss</td>\n",
       "    </tr>\n",
       "    <tr>\n",
       "      <th>1</th>\n",
       "      <td>1</td>\n",
       "      <td>LT tt onmouseover EQ alert LPRN INT RPRN GT te...</td>\n",
       "      <td>1</td>\n",
       "      <td>xss</td>\n",
       "    </tr>\n",
       "    <tr>\n",
       "      <th>2</th>\n",
       "      <td>2</td>\n",
       "      <td>LT SLSH span GT LT span CLASS EQ reference MIN...</td>\n",
       "      <td>0</td>\n",
       "      <td>xss</td>\n",
       "    </tr>\n",
       "    <tr>\n",
       "      <th>3</th>\n",
       "      <td>3</td>\n",
       "      <td>LT SLSH span GT LT span CLASS EQ reference MIN...</td>\n",
       "      <td>0</td>\n",
       "      <td>xss</td>\n",
       "    </tr>\n",
       "    <tr>\n",
       "      <th>4</th>\n",
       "      <td>4</td>\n",
       "      <td>LT SLSH span GT DOT LT A href EQ SLSH wiki SLS...</td>\n",
       "      <td>0</td>\n",
       "      <td>xss</td>\n",
       "    </tr>\n",
       "  </tbody>\n",
       "</table>\n",
       "</div>"
      ],
      "text/plain": [
       "   Unnamed: 0                                               text  Label label\n",
       "0           0  LT li GT LT A href EQ SLSH wiki SLSH FILE CLN ...      0   xss\n",
       "1           1  LT tt onmouseover EQ alert LPRN INT RPRN GT te...      1   xss\n",
       "2           2  LT SLSH span GT LT span CLASS EQ reference MIN...      0   xss\n",
       "3           3  LT SLSH span GT LT span CLASS EQ reference MIN...      0   xss\n",
       "4           4  LT SLSH span GT DOT LT A href EQ SLSH wiki SLS...      0   xss"
      ]
     },
     "execution_count": 9,
     "metadata": {},
     "output_type": "execute_result"
    }
   ],
   "source": [
    "xss.head()"
   ]
  },
  {
   "cell_type": "code",
   "execution_count": 10,
   "id": "a5ac424b-0d1c-436a-81de-85862d4176d5",
   "metadata": {},
   "outputs": [
    {
     "name": "stdout",
     "output_type": "stream",
     "text": [
      "13686\n",
      "30919\n",
      "25000\n"
     ]
    }
   ],
   "source": [
    "print(len(xss))\n",
    "print(len(sql))\n",
    "print(len(safe))"
   ]
  },
  {
   "cell_type": "code",
   "execution_count": 11,
   "id": "00196ce0-2a3c-4fce-88dd-c5c4568cb671",
   "metadata": {},
   "outputs": [],
   "source": [
    "max_num = 5000\n",
    "xss_n=xss.head(max_num)\n",
    "sql_n = sql.head(max_num)\n",
    "safe_n = safe.head(max_num)"
   ]
  },
  {
   "cell_type": "code",
   "execution_count": 12,
   "id": "5993d527-0d41-404e-9b59-a622819caac5",
   "metadata": {},
   "outputs": [
    {
     "name": "stdout",
     "output_type": "stream",
     "text": [
      "5000\n",
      "5000\n",
      "5000\n"
     ]
    }
   ],
   "source": [
    "print(len(xss_n))\n",
    "print(len(sql_n))\n",
    "print(len(safe_n))"
   ]
  },
  {
   "cell_type": "code",
   "execution_count": 16,
   "id": "4ce0d6a3-b459-4439-9baf-74c5e37c61e2",
   "metadata": {},
   "outputs": [],
   "source": [
    "dfs = []\n",
    "  # Notice the double brackets!\n",
    "\n",
    "df_list = [xss_n[['text', 'label']],  sql_n[['text', 'label']],safe_n[['text', 'label']]]"
   ]
  },
  {
   "cell_type": "code",
   "execution_count": 17,
   "id": "3112b193-2049-489a-961d-23fc3e77ed1b",
   "metadata": {},
   "outputs": [],
   "source": [
    "combined = pandas.concat(df_list,ignore_index=True)"
   ]
  },
  {
   "cell_type": "code",
   "execution_count": 18,
   "id": "14c21b5b-b57a-4070-b791-1cc6e9ca2ea6",
   "metadata": {},
   "outputs": [],
   "source": [
    "combined.to_csv(\"csv_files/dt-v2.csv\")"
   ]
  }
 ],
 "metadata": {
  "kernelspec": {
   "display_name": "Python 3 (ipykernel)",
   "language": "python",
   "name": "python3"
  },
  "language_info": {
   "codemirror_mode": {
    "name": "ipython",
    "version": 3
   },
   "file_extension": ".py",
   "mimetype": "text/x-python",
   "name": "python",
   "nbconvert_exporter": "python",
   "pygments_lexer": "ipython3",
   "version": "3.10.16"
  }
 },
 "nbformat": 4,
 "nbformat_minor": 5
}

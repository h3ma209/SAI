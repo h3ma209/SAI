{
 "cells": [
  {
   "cell_type": "code",
   "execution_count": 1,
   "id": "cfddcb8d-1978-4f6c-b0d1-ee6cab790d5d",
   "metadata": {},
   "outputs": [],
   "source": [
    "import pandas\n",
    "from libs import *"
   ]
  },
  {
   "cell_type": "code",
   "execution_count": 2,
   "id": "916033f4-cdac-4c51-93e0-c3cad0e2509e",
   "metadata": {},
   "outputs": [],
   "source": [
    "def open_file(filename):\n",
    "    \"\"\"\n",
    "    Opens a file and returns its content.\n",
    "    \"\"\"\n",
    "    try:\n",
    "        with open(filename, 'r', encoding='utf-8') as f:\n",
    "            content = f.read()\n",
    "        return content\n",
    "    except FileNotFoundError:\n",
    "        print(f\"Error: File not found at {filename}\")\n",
    "        return None\n",
    "    except Exception as e:\n",
    "        print(f\"Error reading file {filename}: {e}\")\n",
    "        return None\n",
    "\n",
    "sf = open_file(\"datasets/safe.txt\")"
   ]
  },
  {
   "cell_type": "code",
   "execution_count": 3,
   "id": "cda223d5-3910-4721-9615-a5fe1d646428",
   "metadata": {},
   "outputs": [],
   "source": [
    "import re\n",
    "\n",
    "\n",
    "def split_sentences(text):\n",
    "    # Protect ellipses\n",
    "    text = text.replace('...', '<ELLIPSIS>')\n",
    "\n",
    "    # Split sentences\n",
    "    text = re.sub(r'\\.(\\s+)', r'.\\n', text)\n",
    "\n",
    "    # Restore ellipses\n",
    "    text = text.replace('<ELLIPSIS>', '...')\n",
    "\n",
    "    # Clean each line\n",
    "    lines = text.split('\\n')\n",
    "    cleaned_lines = []\n",
    "    for line in lines:\n",
    "        line = line.strip()                   # Remove leading/trailing spaces\n",
    "        line = line.replace('.', '')           # Remove dots\n",
    "        line = re.sub(r'\\bbr\\b', '', line)      # Remove the word 'br' (whole word only)\n",
    "        line = re.sub(r'\\s+', ' ', line)        # Collapse multiple spaces into one\n",
    "        line = line.strip()                    # (again) to remove space caused by 'br' removal\n",
    "        \n",
    "        # Check if line is meaningful (more than one word, not just short junk)\n",
    "        if len(line.split()) > 2 and len(line) > 5:\n",
    "            cleaned_lines.append(line)\n",
    "\n",
    "    return '\\n'.join(cleaned_lines)\n",
    "\n",
    "processed_text = split_sentences(sf)\n",
    "\n",
    "# If you want to save it back\n",
    "with open('datasets/safe_processed.txt', 'w') as f:\n",
    "    f.write(processed_text)"
   ]
  },
  {
   "cell_type": "code",
   "execution_count": 4,
   "id": "c8049bb3-3719-4926-a97c-b93397c5548b",
   "metadata": {},
   "outputs": [],
   "source": [
    "xss = pandas.read_csv(\"csv_files/xss-v2.csv\")\n",
    "sql = pandas.read_csv(\"csv_files/sql-v2.csv\")\n",
    "# safe = open_file(\"datasets/safe.txt\",\"safe\")\n",
    "safe = pandas.DataFrame(processed_text.split(\"\\n\"),columns=[\"text\"])"
   ]
  },
  {
   "cell_type": "code",
   "execution_count": 5,
   "id": "a9db8360-dc82-48f6-8a91-6a37852e96a5",
   "metadata": {},
   "outputs": [
    {
     "data": {
      "text/html": [
       "<div>\n",
       "<style scoped>\n",
       "    .dataframe tbody tr th:only-of-type {\n",
       "        vertical-align: middle;\n",
       "    }\n",
       "\n",
       "    .dataframe tbody tr th {\n",
       "        vertical-align: top;\n",
       "    }\n",
       "\n",
       "    .dataframe thead th {\n",
       "        text-align: right;\n",
       "    }\n",
       "</style>\n",
       "<table border=\"1\" class=\"dataframe\">\n",
       "  <thead>\n",
       "    <tr style=\"text-align: right;\">\n",
       "      <th></th>\n",
       "      <th>Unnamed: 0</th>\n",
       "      <th>Sentence</th>\n",
       "      <th>Label</th>\n",
       "    </tr>\n",
       "  </thead>\n",
       "  <tbody>\n",
       "    <tr>\n",
       "      <th>0</th>\n",
       "      <td>0</td>\n",
       "      <td>&lt;li&gt;&lt;a href=\"/wiki/File:Socrates.png\" class=\"i...</td>\n",
       "      <td>0</td>\n",
       "    </tr>\n",
       "    <tr>\n",
       "      <th>1</th>\n",
       "      <td>1</td>\n",
       "      <td>&lt;tt onmouseover=\"alert(1)\"&gt;test&lt;/tt&gt;</td>\n",
       "      <td>1</td>\n",
       "    </tr>\n",
       "    <tr>\n",
       "      <th>2</th>\n",
       "      <td>2</td>\n",
       "      <td>\\t &lt;/span&gt; &lt;span class=\"reference-text\"&gt;Steeri...</td>\n",
       "      <td>0</td>\n",
       "    </tr>\n",
       "    <tr>\n",
       "      <th>3</th>\n",
       "      <td>3</td>\n",
       "      <td>\\t &lt;/span&gt; &lt;span class=\"reference-text\"&gt;&lt;cite ...</td>\n",
       "      <td>0</td>\n",
       "    </tr>\n",
       "    <tr>\n",
       "      <th>4</th>\n",
       "      <td>4</td>\n",
       "      <td>\\t &lt;/span&gt;. &lt;a href=\"/wiki/Digital_object_iden...</td>\n",
       "      <td>0</td>\n",
       "    </tr>\n",
       "  </tbody>\n",
       "</table>\n",
       "</div>"
      ],
      "text/plain": [
       "   Unnamed: 0                                           Sentence  Label\n",
       "0           0  <li><a href=\"/wiki/File:Socrates.png\" class=\"i...      0\n",
       "1           1               <tt onmouseover=\"alert(1)\">test</tt>      1\n",
       "2           2  \\t </span> <span class=\"reference-text\">Steeri...      0\n",
       "3           3  \\t </span> <span class=\"reference-text\"><cite ...      0\n",
       "4           4  \\t </span>. <a href=\"/wiki/Digital_object_iden...      0"
      ]
     },
     "execution_count": 5,
     "metadata": {},
     "output_type": "execute_result"
    }
   ],
   "source": [
    "xss.head()"
   ]
  },
  {
   "cell_type": "code",
   "execution_count": 6,
   "id": "01dc07e1-6e46-446a-a097-00e1f6c27202",
   "metadata": {},
   "outputs": [],
   "source": [
    "xss[\"label\"] = \"xss\"\n",
    "sql[\"label\"] = \"sql\"\n",
    "safe[\"label\"] = \"safe\""
   ]
  },
  {
   "cell_type": "code",
   "execution_count": 7,
   "id": "ab8000d0-6a83-4a90-a82b-3ea5e70c628c",
   "metadata": {},
   "outputs": [],
   "source": [
    "xss=xss.rename(columns={'Sentence': 'text'})\n",
    "sql=sql.rename(columns={'Query': 'text'})\n",
    "safe=safe.rename(columns={\"text\":\"text\"})"
   ]
  },
  {
   "cell_type": "code",
   "execution_count": 8,
   "id": "0577f0d4-45dc-4f02-b180-1d77daa422d1",
   "metadata": {},
   "outputs": [
    {
     "data": {
      "text/html": [
       "<div>\n",
       "<style scoped>\n",
       "    .dataframe tbody tr th:only-of-type {\n",
       "        vertical-align: middle;\n",
       "    }\n",
       "\n",
       "    .dataframe tbody tr th {\n",
       "        vertical-align: top;\n",
       "    }\n",
       "\n",
       "    .dataframe thead th {\n",
       "        text-align: right;\n",
       "    }\n",
       "</style>\n",
       "<table border=\"1\" class=\"dataframe\">\n",
       "  <thead>\n",
       "    <tr style=\"text-align: right;\">\n",
       "      <th></th>\n",
       "      <th>Unnamed: 0</th>\n",
       "      <th>text</th>\n",
       "      <th>Label</th>\n",
       "      <th>label</th>\n",
       "    </tr>\n",
       "  </thead>\n",
       "  <tbody>\n",
       "    <tr>\n",
       "      <th>0</th>\n",
       "      <td>0</td>\n",
       "      <td>&lt;li&gt;&lt;a href=\"/wiki/File:Socrates.png\" class=\"i...</td>\n",
       "      <td>0</td>\n",
       "      <td>xss</td>\n",
       "    </tr>\n",
       "    <tr>\n",
       "      <th>1</th>\n",
       "      <td>1</td>\n",
       "      <td>&lt;tt onmouseover=\"alert(1)\"&gt;test&lt;/tt&gt;</td>\n",
       "      <td>1</td>\n",
       "      <td>xss</td>\n",
       "    </tr>\n",
       "    <tr>\n",
       "      <th>2</th>\n",
       "      <td>2</td>\n",
       "      <td>\\t &lt;/span&gt; &lt;span class=\"reference-text\"&gt;Steeri...</td>\n",
       "      <td>0</td>\n",
       "      <td>xss</td>\n",
       "    </tr>\n",
       "    <tr>\n",
       "      <th>3</th>\n",
       "      <td>3</td>\n",
       "      <td>\\t &lt;/span&gt; &lt;span class=\"reference-text\"&gt;&lt;cite ...</td>\n",
       "      <td>0</td>\n",
       "      <td>xss</td>\n",
       "    </tr>\n",
       "    <tr>\n",
       "      <th>4</th>\n",
       "      <td>4</td>\n",
       "      <td>\\t &lt;/span&gt;. &lt;a href=\"/wiki/Digital_object_iden...</td>\n",
       "      <td>0</td>\n",
       "      <td>xss</td>\n",
       "    </tr>\n",
       "  </tbody>\n",
       "</table>\n",
       "</div>"
      ],
      "text/plain": [
       "   Unnamed: 0                                               text  Label label\n",
       "0           0  <li><a href=\"/wiki/File:Socrates.png\" class=\"i...      0   xss\n",
       "1           1               <tt onmouseover=\"alert(1)\">test</tt>      1   xss\n",
       "2           2  \\t </span> <span class=\"reference-text\">Steeri...      0   xss\n",
       "3           3  \\t </span> <span class=\"reference-text\"><cite ...      0   xss\n",
       "4           4  \\t </span>. <a href=\"/wiki/Digital_object_iden...      0   xss"
      ]
     },
     "execution_count": 8,
     "metadata": {},
     "output_type": "execute_result"
    }
   ],
   "source": [
    "xss.head()"
   ]
  },
  {
   "cell_type": "code",
   "execution_count": 9,
   "id": "3591145e-02e4-4ecd-838b-30778187f7ed",
   "metadata": {},
   "outputs": [
    {
     "data": {
      "text/plain": [
       "['LT',\n",
       " 'EN_WORD',\n",
       " 'EN_WORD',\n",
       " 'EQ',\n",
       " 'DQUT',\n",
       " 'EN_WORD',\n",
       " 'LPRN',\n",
       " 'EN_WORD',\n",
       " 'RPRN',\n",
       " 'DQUT',\n",
       " 'GT',\n",
       " 'EN_WORD',\n",
       " 'LT',\n",
       " 'SLSH',\n",
       " 'EN_WORD',\n",
       " 'GT']"
      ]
     },
     "execution_count": 9,
     "metadata": {},
     "output_type": "execute_result"
    }
   ],
   "source": [
    "sql_tokenizer('<tt onmouseover=\"alert(1)\">test</tt>')"
   ]
  },
  {
   "cell_type": "code",
   "execution_count": 12,
   "id": "f5f959cc-d847-4500-8859-c9fe60e94e13",
   "metadata": {},
   "outputs": [
    {
     "name": "stdout",
     "output_type": "stream",
     "text": [
      "LT SCRIPT GT LT EN_WORD EN_WORD EQ DQUT EN_WORD LPRN EN_WORD RPRN DQUT GT EN_WORD LT SLSH EN_WORD GT\n"
     ]
    }
   ],
   "source": [
    "def custom_tokenizer(query):\n",
    "    return \" \".join(sql_tokenizer(query))\n",
    "print(custom_tokenizer('<script> <tt onmouseover=\"alert(1)\">test</tt>'))"
   ]
  },
  {
   "cell_type": "code",
   "execution_count": 13,
   "id": "7dd47c02-4eb7-49de-8fb1-81cfafc59ade",
   "metadata": {},
   "outputs": [],
   "source": [
    "xss['text'] = xss['text'].apply(custom_tokenizer)\n",
    "sql['text'] = sql['text'].apply(custom_tokenizer)\n",
    "safe['text'] = safe['text'].apply(custom_tokenizer)"
   ]
  },
  {
   "cell_type": "code",
   "execution_count": 14,
   "id": "3df9bc81-5e32-43ed-92b9-70d69942cda1",
   "metadata": {},
   "outputs": [
    {
     "data": {
      "text/html": [
       "<div>\n",
       "<style scoped>\n",
       "    .dataframe tbody tr th:only-of-type {\n",
       "        vertical-align: middle;\n",
       "    }\n",
       "\n",
       "    .dataframe tbody tr th {\n",
       "        vertical-align: top;\n",
       "    }\n",
       "\n",
       "    .dataframe thead th {\n",
       "        text-align: right;\n",
       "    }\n",
       "</style>\n",
       "<table border=\"1\" class=\"dataframe\">\n",
       "  <thead>\n",
       "    <tr style=\"text-align: right;\">\n",
       "      <th></th>\n",
       "      <th>Unnamed: 0</th>\n",
       "      <th>text</th>\n",
       "      <th>Label</th>\n",
       "      <th>label</th>\n",
       "    </tr>\n",
       "  </thead>\n",
       "  <tbody>\n",
       "    <tr>\n",
       "      <th>0</th>\n",
       "      <td>0</td>\n",
       "      <td>LT EN_WORD GT LT A EN_WORD EQ DQUT SLSH EN_WOR...</td>\n",
       "      <td>0</td>\n",
       "      <td>xss</td>\n",
       "    </tr>\n",
       "    <tr>\n",
       "      <th>1</th>\n",
       "      <td>1</td>\n",
       "      <td>LT EN_WORD EN_WORD EQ DQUT EN_WORD LPRN EN_WOR...</td>\n",
       "      <td>1</td>\n",
       "      <td>xss</td>\n",
       "    </tr>\n",
       "    <tr>\n",
       "      <th>2</th>\n",
       "      <td>2</td>\n",
       "      <td>LT SLSH EN_WORD GT LT EN_WORD CLASS EQ DQUT EN...</td>\n",
       "      <td>0</td>\n",
       "      <td>xss</td>\n",
       "    </tr>\n",
       "    <tr>\n",
       "      <th>3</th>\n",
       "      <td>3</td>\n",
       "      <td>LT SLSH EN_WORD GT LT EN_WORD CLASS EQ DQUT EN...</td>\n",
       "      <td>0</td>\n",
       "      <td>xss</td>\n",
       "    </tr>\n",
       "    <tr>\n",
       "      <th>4</th>\n",
       "      <td>4</td>\n",
       "      <td>LT SLSH EN_WORD GT DOT LT A EN_WORD EQ DQUT SL...</td>\n",
       "      <td>0</td>\n",
       "      <td>xss</td>\n",
       "    </tr>\n",
       "  </tbody>\n",
       "</table>\n",
       "</div>"
      ],
      "text/plain": [
       "   Unnamed: 0                                               text  Label label\n",
       "0           0  LT EN_WORD GT LT A EN_WORD EQ DQUT SLSH EN_WOR...      0   xss\n",
       "1           1  LT EN_WORD EN_WORD EQ DQUT EN_WORD LPRN EN_WOR...      1   xss\n",
       "2           2  LT SLSH EN_WORD GT LT EN_WORD CLASS EQ DQUT EN...      0   xss\n",
       "3           3  LT SLSH EN_WORD GT LT EN_WORD CLASS EQ DQUT EN...      0   xss\n",
       "4           4  LT SLSH EN_WORD GT DOT LT A EN_WORD EQ DQUT SL...      0   xss"
      ]
     },
     "execution_count": 14,
     "metadata": {},
     "output_type": "execute_result"
    }
   ],
   "source": [
    "xss.head()"
   ]
  },
  {
   "cell_type": "code",
   "execution_count": 9,
   "id": "38049be9-2859-445d-9346-576cb22f1e40",
   "metadata": {},
   "outputs": [],
   "source": [
    "# with open('keys/keywords.txt', 'r') as f:\n",
    "#     keys = {line.strip().upper() for line in f}\n",
    "\n",
    "\n",
    "# # Load replacements\n",
    "# replacements = {}\n",
    "# with open('keys/replace.txt', 'r') as f:\n",
    "#     for line in f:\n",
    "#         key, value = line.strip().split(\"==>\")\n",
    "#         replacements[key.strip()] = value.strip()\n",
    "\n",
    "# def replace_symbol(word):\n",
    "#     try:\n",
    "#         int(word)\n",
    "#         return \"INT\"\n",
    "#     except ValueError:\n",
    "#         word_list = []\n",
    "#         for char in word:\n",
    "#             replacement = replacements.get(char)\n",
    "#             word_list.append(f\" {replacement} \" if replacement else char)\n",
    "#         return \"\".join(word_list).strip().replace(\"  \", \" \")\n",
    "        \n",
    "# def sql_tokenizer(query):\n",
    "#     query = query.lower()\n",
    "#     tokenized = ' '.join(map(replace_symbol, query.split()))\n",
    "#     split = tokenized.split()\n",
    "#     # print(\"Missing from keys:\", {w.upper() for w in split if w.upper() not in keys})\n",
    "\n",
    "\n",
    "#     for i, word in enumerate(split):\n",
    "#         upper = word.upper()\n",
    "#         if upper in keys:\n",
    "#             split[i] = upper\n",
    "#         elif upper in replacements.values():\n",
    "#             split[i] = upper  # Keep symbolic tokens like LT, GT, STAR\n",
    "#         else:\n",
    "#             split[i] = \"EN_WORD\"\n",
    "\n",
    "#     return ' '.join(split)\n",
    "\n",
    "\n",
    "# sql_tokenizer(\"this is <Script>/int  TEXT select from ' * my name is hema and this is my car\")"
   ]
  },
  {
   "cell_type": "code",
   "execution_count": 18,
   "id": "a5ac424b-0d1c-436a-81de-85862d4176d5",
   "metadata": {},
   "outputs": [
    {
     "name": "stdout",
     "output_type": "stream",
     "text": [
      "13686\n",
      "30919\n",
      "292466\n"
     ]
    }
   ],
   "source": [
    "print(len(xss))\n",
    "print(len(sql))\n",
    "print(len(safe))"
   ]
  },
  {
   "cell_type": "code",
   "execution_count": 39,
   "id": "00196ce0-2a3c-4fce-88dd-c5c4568cb671",
   "metadata": {},
   "outputs": [],
   "source": [
    "max_num = 15000\n",
    "xss_n=xss.head(max_num)\n",
    "sql_n = sql.head(max_num)\n",
    "safe_n = safe.head(max_num+int(max_num/1.3))"
   ]
  },
  {
   "cell_type": "code",
   "execution_count": 40,
   "id": "5993d527-0d41-404e-9b59-a622819caac5",
   "metadata": {},
   "outputs": [
    {
     "name": "stdout",
     "output_type": "stream",
     "text": [
      "13686\n",
      "15000\n",
      "26538\n"
     ]
    }
   ],
   "source": [
    "print(len(xss_n))\n",
    "print(len(sql_n))\n",
    "print(len(safe_n))"
   ]
  },
  {
   "cell_type": "code",
   "execution_count": 41,
   "id": "4ce0d6a3-b459-4439-9baf-74c5e37c61e2",
   "metadata": {},
   "outputs": [],
   "source": [
    "dfs = []\n",
    "  # Notice the double brackets!\n",
    "\n",
    "df_list = [xss_n[['text', 'label']],  sql_n[['text', 'label']],safe_n[['text', 'label']]]"
   ]
  },
  {
   "cell_type": "code",
   "execution_count": 42,
   "id": "3112b193-2049-489a-961d-23fc3e77ed1b",
   "metadata": {},
   "outputs": [],
   "source": [
    "combined = pandas.concat(df_list,ignore_index=True)"
   ]
  },
  {
   "cell_type": "code",
   "execution_count": 43,
   "id": "14c21b5b-b57a-4070-b791-1cc6e9ca2ea6",
   "metadata": {},
   "outputs": [],
   "source": [
    "combined.to_csv(\"csv_files/dt-v12.csv\")"
   ]
  },
  {
   "cell_type": "code",
   "execution_count": null,
   "id": "c0be1cf0-d980-44ae-b580-4e60c29faf37",
   "metadata": {},
   "outputs": [],
   "source": []
  }
 ],
 "metadata": {
  "kernelspec": {
   "display_name": "Python 3 (ipykernel)",
   "language": "python",
   "name": "python3"
  },
  "language_info": {
   "codemirror_mode": {
    "name": "ipython",
    "version": 3
   },
   "file_extension": ".py",
   "mimetype": "text/x-python",
   "name": "python",
   "nbconvert_exporter": "python",
   "pygments_lexer": "ipython3",
   "version": "3.10.16"
  }
 },
 "nbformat": 4,
 "nbformat_minor": 5
}
